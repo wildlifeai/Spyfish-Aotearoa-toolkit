{
 "cells": [
  {
   "cell_type": "markdown",
   "metadata": {},
   "source": [
    "This notebook is designed to test the data ingestion from s3 to powerbi.\n",
    "It assumes you have the aws keys stored in a .env file in the same directory as this notebook."
   ]
  },
  {
   "cell_type": "code",
   "execution_count": null,
   "metadata": {},
   "outputs": [],
   "source": [
    "# Ensure you have the right modules installed\n",
    "!pip install pandas boto3 python-dotenv matplotlib"
   ]
  },
  {
   "cell_type": "code",
   "execution_count": null,
   "metadata": {},
   "outputs": [],
   "source": [
    "import os\n",
    "import importlib\n",
    "import get_kso_data_from_s3  # Import your script\n",
    "\n",
    "# Specify the path to your .env file\n",
    "env_path = os.path.join(os.getcwd(), \".env\")  # Ensure this is correct\n",
    "\n",
    "# Reload the script in case of changes\n",
    "importlib.reload(get_kso_data_from_s3)\n",
    "\n",
    "# Run the main function from the script\n",
    "df = get_kso_data_from_s3.main(env_path)\n",
    "\n",
    "# Display the DataFrame\n",
    "df.head()\n"
   ]
  }
 ],
 "metadata": {
  "kernelspec": {
   "display_name": "Python 3",
   "language": "python",
   "name": "python3"
  },
  "language_info": {
   "codemirror_mode": {
    "name": "ipython",
    "version": 3
   },
   "file_extension": ".py",
   "mimetype": "text/x-python",
   "name": "python",
   "nbconvert_exporter": "python",
   "pygments_lexer": "ipython3",
   "version": "3.11.11"
  }
 },
 "nbformat": 4,
 "nbformat_minor": 2
}
