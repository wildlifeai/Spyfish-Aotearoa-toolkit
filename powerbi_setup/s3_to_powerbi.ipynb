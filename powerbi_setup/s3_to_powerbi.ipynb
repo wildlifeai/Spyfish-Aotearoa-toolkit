{
 "cells": [
  {
   "cell_type": "markdown",
   "metadata": {},
   "source": [
    "This notebook is designed to test the data ingestion from s3 to powerbi.\n",
    "It assumes you have the aws keys stored in a .env file in the same directory as this notebook."
   ]
  },
  {
   "cell_type": "code",
   "execution_count": null,
   "metadata": {},
   "outputs": [],
   "source": [
    "# Ensure you have the right modules installed\n",
    "!pip install requests pandas boto3 python-dotenv matplotlib"
   ]
  },
  {
   "cell_type": "code",
   "execution_count": null,
   "metadata": {},
   "outputs": [
    {
     "name": "stderr",
     "output_type": "stream",
     "text": [
      "2025-03-28 13:07:59,365 - get_kso_data_from_s3 - INFO - AWS Credentials loaded. Bucket: marine-buv\n",
      "2025-03-28 13:07:59,372 - get_kso_data_from_s3 - INFO - Attempting to read annotations from S3\n",
      "2025-03-28 13:08:00,727 - get_kso_data_from_s3 - INFO - Successfully read annotations. Shape: (1595, 7)\n",
      "2025-03-28 13:08:00,728 - get_kso_data_from_s3 - INFO - Attempting to read movies from S3\n",
      "2025-03-28 13:08:00,873 - get_kso_data_from_s3 - INFO - Successfully read movies. Shape: (567, 25)\n",
      "2025-03-28 13:08:00,874 - get_kso_data_from_s3 - INFO - Attempting to read sites from S3\n",
      "2025-03-28 13:08:01,021 - get_kso_data_from_s3 - INFO - Successfully read sites. Shape: (559, 17)\n",
      "2025-03-28 13:08:01,022 - get_kso_data_from_s3 - INFO - Attempting to read surveys from S3\n",
      "2025-03-28 13:08:01,136 - get_kso_data_from_s3 - INFO - Successfully read surveys. Shape: (57, 27)\n",
      "2025-03-28 13:08:01,136 - get_kso_data_from_s3 - INFO - Attempting to read species from S3\n",
      "2025-03-28 13:08:01,237 - get_kso_data_from_s3 - INFO - Successfully read species. Shape: (195, 7)\n",
      "2025-03-28 13:08:01,247 - get_kso_data_from_s3 - INFO - Successfully processed annotations dataframe. Shape: (126, 76)\n",
      "2025-03-28 13:08:01,252 - get_kso_data_from_s3 - INFO - Processed annotations dataframe saved to 'processed_annotations.csv'\n"
     ]
    }
   ],
   "source": [
    "import os\n",
    "import importlib\n",
    "import get_kso_data_from_s3  # Import your script\n",
    "\n",
    "# Specify the path to your .env file\n",
    "env_path = os.path.join(os.getcwd(), \".env\")  # Ensure this is correct\n",
    "\n",
    "# Reload the script in case of changes\n",
    "importlib.reload(get_kso_data_from_s3)\n",
    "\n",
    "# Run the main function from the script\n",
    "df = get_kso_data_from_s3.main(env_path)\n"
   ]
  }
 ],
 "metadata": {
  "kernelspec": {
   "display_name": "Python 3",
   "language": "python",
   "name": "python3"
  },
  "language_info": {
   "codemirror_mode": {
    "name": "ipython",
    "version": 3
   },
   "file_extension": ".py",
   "mimetype": "text/x-python",
   "name": "python",
   "nbconvert_exporter": "python",
   "pygments_lexer": "ipython3",
   "version": "3.11.11"
  }
 },
 "nbformat": 4,
 "nbformat_minor": 2
}
