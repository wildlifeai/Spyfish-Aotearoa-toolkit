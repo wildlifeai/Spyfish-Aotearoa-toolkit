{
 "cells": [
  {
   "cell_type": "markdown",
   "id": "32f0b6f0",
   "metadata": {
    "toc": true
   },
   "source": [
    "<h1>Table of Contents<span class=\"tocSkip\"></span></h1>\n",
    "<div class=\"toc\"><ul class=\"toc-item\"><li><span><a href=\"#Scientific-Names-Validity-Review\" data-toc-modified-id=\"Scientific-Names-Validity-Review-1\"><span class=\"toc-item-num\">1&nbsp;&nbsp;</span>Scientific Names Validity Review</a></span><ul class=\"toc-item\"><li><span><a href=\"#Chose-excel-file-containing-the-scientific-names-to-check\" data-toc-modified-id=\"Chose-excel-file-containing-the-scientific-names-to-check-1.1\"><span class=\"toc-item-num\">1.1&nbsp;&nbsp;</span>Chose excel file containing the scientific names to check</a></span></li><li><span><a href=\"#Small-test-df\" data-toc-modified-id=\"Small-test-df-1.2\"><span class=\"toc-item-num\">1.2&nbsp;&nbsp;</span>Small test df</a></span></li><li><span><a href=\"#Check-each-of-the-scientific-names\" data-toc-modified-id=\"Check-each-of-the-scientific-names-1.3\"><span class=\"toc-item-num\">1.3&nbsp;&nbsp;</span>Check each of the scientific names</a></span></li><li><span><a href=\"#run-the-name-checker-on-each-row\" data-toc-modified-id=\"run-the-name-checker-on-each-row-1.4\"><span class=\"toc-item-num\">1.4&nbsp;&nbsp;</span>run the name checker on each row</a></span></li></ul></li><li><span><a href=\"#run-the-name-checker-on-the-whole-dataframe\" data-toc-modified-id=\"run-the-name-checker-on-the-whole-dataframe-2\"><span class=\"toc-item-num\">2&nbsp;&nbsp;</span>run the name checker on the whole dataframe</a></span></li><li><span><a href=\"#TODOs-and-Extras:\" data-toc-modified-id=\"TODOs-and-Extras:-3\"><span class=\"toc-item-num\">3&nbsp;&nbsp;</span>TODOs and Extras:</a></span><ul class=\"toc-item\"><li><span><a href=\"#potential-todos\" data-toc-modified-id=\"potential-todos-3.1\"><span class=\"toc-item-num\">3.1&nbsp;&nbsp;</span>potential todos</a></span></li><li><span><a href=\"#print-WoRMS-suggestions\" data-toc-modified-id=\"print-WoRMS-suggestions-3.2\"><span class=\"toc-item-num\">3.2&nbsp;&nbsp;</span>print WoRMS suggestions</a></span></li><li><span><a href=\"#Example-API-return\" data-toc-modified-id=\"Example-API-return-3.3\"><span class=\"toc-item-num\">3.3&nbsp;&nbsp;</span>Example API return</a></span></li></ul></li></ul></div>"
   ]
  },
  {
   "cell_type": "code",
   "execution_count": 1,
   "id": "e13aaaf7",
   "metadata": {},
   "outputs": [],
   "source": [
    "# Last changed 2025.03.25"
   ]
  },
  {
   "cell_type": "markdown",
   "id": "1e09ad60",
   "metadata": {},
   "source": [
    "# Scientific Names Validity Review\n",
    "\n",
    "This notebooks is part of the Spyfish data cleaning process and it reviews the validity of species scientific names in a given column of an Excel sheet. \n",
    "\n",
    "The checks are performed with calls to the [WoRMS API](https://www.marinespecies.org/rest/AphiaRecordsByName).\n"
   ]
  },
  {
   "cell_type": "markdown",
   "id": "99b5757c",
   "metadata": {},
   "source": [
    "\n",
    "The output of this notebook creates a csv with the following column:\n",
    "- **aphiaID**: from WoRMS API\n",
    "- **scientificName**: the scientific name, validated by the WoRMS API\n",
    "- **commonName**: the common name\n",
    "- **taxonRank**: the corresponding rank of the scientific name\n",
    "\n"
   ]
  },
  {
   "cell_type": "markdown",
   "id": "ed97b71c",
   "metadata": {},
   "source": [
    "If you already have a cleaned csv, and would like to check & add a few names (from a list or from or another file) scroll down to [Extra scientific names to add](#extra-scientific-names-to-add)"
   ]
  },
  {
   "cell_type": "code",
   "execution_count": 8,
   "id": "fb6226da",
   "metadata": {},
   "outputs": [],
   "source": [
    "## Run below code first: If you get the ModuleNotFoundError: No module named 'sftk' or similar error, \n",
    "## check the README.md Usage section for instructions or run the below code:\n",
    "import sys\n",
    "sys.path.append('path/to/Spyfish-Aotearoa-toolkit')\n"
   ]
  },
  {
   "cell_type": "code",
   "execution_count": 11,
   "id": "12dcaf71-cfc0-46a8-85ec-daafffc60922",
   "metadata": {},
   "outputs": [],
   "source": [
    "import pandas as pd\n",
    "\n",
    "from sftk.utils import read_file_to_df\n",
    "from sftk.clean_data import ScientificNameProcessing"
   ]
  },
  {
   "cell_type": "markdown",
   "id": "e6117ded",
   "metadata": {},
   "source": [
    "## Chose csv file(s) containing the scientific names to check"
   ]
  },
  {
   "cell_type": "code",
   "execution_count": null,
   "id": "154fa830",
   "metadata": {},
   "outputs": [],
   "source": [
    "# Example usage\n",
    "scientific_names_file = {\"path\": \"/path/to/scientific_name/csv_file\", # change to your path\n",
    "                         \"columns\":[\"scientificName\", \"commonName\"]} # columns that have the scientifi and common names\n",
    "\n",
    "scientific_names_file_example =  {\"path\": \"../tests/mock_data/sample_clean_scientific_names.csv\", \n",
    "                                 \"columns\": [\"scientificName\", \"commonName\"]} \n",
    "\n",
    "\n",
    "# Add multiple files if necessary: \n",
    "scientific_names_files = [scientific_names_file_example]\n",
    "\n",
    "print(\"The scientific_names_files are\") \n",
    "scientific_names_files\n"
   ]
  },
  {
   "cell_type": "code",
   "execution_count": null,
   "id": "c4a818c5-a462-4697-a413-7878d5b4f7fe",
   "metadata": {},
   "outputs": [],
   "source": [
    "raw_scientific_names_dfs = []\n",
    "\n",
    "for scientific_names_file in scientific_names_files:\n",
    "    \n",
    "    current_df = read_file_to_df(scientific_names_file[\"path\"])\n",
    "    \n",
    "    current_df.rename(columns={\n",
    "        # add the next line if there is a column called scientific_name not intended to be used as scientific name\n",
    "        \"scientific_name\": \"hold\", \n",
    "        scientific_names_file[\"columns\"][0]: \"scientific_name\", \n",
    "        # delete the next line if there is no column for common name \n",
    "        scientific_names_file[\"columns\"][1]: \"common_name\"\n",
    "        }, \n",
    "        inplace=True)\n",
    "    raw_scientific_names_dfs.append(current_df)\n",
    "   \n",
    "\n",
    "# Concatenating all the files\n",
    "raw_scientific_names_df = pd.concat(raw_scientific_names_dfs, ignore_index=True)\n",
    "print(f\"Length of scientific names dartaframe: {len(raw_scientific_names_df)}\")\n",
    "raw_scientific_names_df.sample(3)"
   ]
  },
  {
   "cell_type": "code",
   "execution_count": 109,
   "id": "d4e5b230",
   "metadata": {},
   "outputs": [],
   "source": [
    "# create checkpoint csv data if necessary\n",
    "# raw_scientific_names_df.to_csv(\"checkpoint_concatenated_scientific_names.csv\", index=False)"
   ]
  },
  {
   "cell_type": "code",
   "execution_count": null,
   "id": "4695d987",
   "metadata": {},
   "outputs": [],
   "source": [
    "raw_scientific_names_df = raw_scientific_names_df[[\"scientific_name\", \"common_name\"]]\n",
    "raw_scientific_names_df.sample(3)"
   ]
  },
  {
   "cell_type": "code",
   "execution_count": null,
   "id": "1ac012f6",
   "metadata": {},
   "outputs": [],
   "source": [
    "# sort values by scientific name\n",
    "raw_scientific_names_df =  raw_scientific_names_df.sort_values(by=[\"scientific_name\", \"common_name\"], ascending=[True, False])\n",
    "# review duplicates for \"scientific_name\"\n",
    "raw_scientific_names_df[raw_scientific_names_df.duplicated(subset='scientific_name', keep=False)]\n",
    "\n",
    "# uncomment row if you want to drop duplicates and keep the first of the duplicates\n",
    "#raw_scientific_names_df = raw_scientific_names_df.drop_duplicates(subset='scientific_name', keep='first')\n"
   ]
  },
  {
   "cell_type": "markdown",
   "id": "4b2ae123",
   "metadata": {},
   "source": [
    "## Small test df\n",
    "To use for testing etc in order to avoid multiple API calls"
   ]
  },
  {
   "cell_type": "code",
   "execution_count": 15,
   "id": "d3603a87",
   "metadata": {},
   "outputs": [],
   "source": [
    "# raw_scientific_names_df = pd.DataFrame(['Kathetostoma giganteum', # correct\n",
    "#                                     'Kathetostoma giganteu', # typo\n",
    "#                                     'Cephaloscyllium isabellum', # replaced by new nomenclature\n",
    "#                                     'Triglidae sp', # only genus correct\n",
    "#                                     'Blennioidei sp' # new nomenclature genus to fix\n",
    "#                                    ], columns=[\"scientificName\"])\n",
    "# raw_scientific_names_df[\"commonName\"] = \"Test\"\n",
    "# raw_scientific_names_df"
   ]
  },
  {
   "cell_type": "markdown",
   "id": "3bc595b1",
   "metadata": {},
   "source": [
    "## Run the name checker on each row and check the scientific names "
   ]
  },
  {
   "cell_type": "code",
   "execution_count": 114,
   "id": "b078277a",
   "metadata": {},
   "outputs": [],
   "source": [
    "def process_dataframe_row(row):\n",
    "    # get relevant values from original dataframe\n",
    "    scientific_name = row.get(\"scientific_name\")\n",
    "    common_name = row.get(\"common_name\")\n",
    "    \n",
    "    return ScientificNameProcessing(scientific_name, common_name).query_api()"
   ]
  },
  {
   "cell_type": "code",
   "execution_count": null,
   "id": "6629272f",
   "metadata": {},
   "outputs": [],
   "source": [
    "clean_scientific_names_df = raw_scientific_names_df.apply(process_dataframe_row, axis=1)\n",
    "clean_scientific_names_df"
   ]
  },
  {
   "cell_type": "code",
   "execution_count": null,
   "id": "9f78d138",
   "metadata": {},
   "outputs": [],
   "source": [
    "# Convert list of dataclass instances to DataFrame\n",
    "# TODO refactor this as now it goes from Dataframe > list > dataframe\n",
    "clean_scientific_names_df = pd.DataFrame(clean_scientific_names_df.tolist())\n",
    "\n",
    "clean_scientific_names_df.sample(3)"
   ]
  },
  {
   "cell_type": "code",
   "execution_count": null,
   "id": "a41cd361",
   "metadata": {},
   "outputs": [],
   "source": [
    "# order by aphia_id\n",
    "clean_scientific_names_df = clean_scientific_names_df.sort_values(by=[\"aphia_id\",\"scientific_name\"], ascending=[True, False])\n",
    "clean_scientific_names_df.sample()"
   ]
  },
  {
   "cell_type": "markdown",
   "id": "77a82eca",
   "metadata": {},
   "source": [
    "# Review dataframe created with API response"
   ]
  },
  {
   "cell_type": "code",
   "execution_count": null,
   "id": "acc172ed",
   "metadata": {},
   "outputs": [],
   "source": [
    "# review API irregularities: \n",
    "clean_scientific_names_df[clean_scientific_names_df[\"status\"] != \"accepted\"]"
   ]
  },
  {
   "cell_type": "code",
   "execution_count": null,
   "id": "ca423ab0",
   "metadata": {},
   "outputs": [],
   "source": [
    "# review mismatches between the scientific_names to match and those accepted by WoRMS\n",
    "# if there is a discrepancy, run those lines again, because the aphia_id refers to the old value:\n",
    "clean_scientific_names_df[clean_scientific_names_df[\"scientific_names_match\"] != True]\n"
   ]
  },
  {
   "cell_type": "markdown",
   "id": "ba306b2c",
   "metadata": {},
   "source": [
    "## check for duplicates"
   ]
  },
  {
   "cell_type": "code",
   "execution_count": null,
   "id": "e38dd568",
   "metadata": {},
   "outputs": [],
   "source": [
    "# check for duplicates aphia_id\n",
    "clean_scientific_names_df[clean_scientific_names_df.duplicated(subset='aphia_id', keep=False)]"
   ]
  },
  {
   "cell_type": "code",
   "execution_count": null,
   "id": "2584279a",
   "metadata": {},
   "outputs": [],
   "source": [
    "# check for duplicates scintific_name\n",
    "clean_scientific_names_df[clean_scientific_names_df.duplicated(subset='scientific_name', keep=False)]"
   ]
  },
  {
   "cell_type": "code",
   "execution_count": null,
   "id": "d50049dc",
   "metadata": {},
   "outputs": [],
   "source": [
    "# check for duplicates common name\n",
    "clean_scientific_names_df[clean_scientific_names_df.duplicated(subset='common_name', keep=False)]"
   ]
  },
  {
   "cell_type": "markdown",
   "id": "06460338",
   "metadata": {},
   "source": [
    "## delete specific rows by id"
   ]
  },
  {
   "cell_type": "code",
   "execution_count": 60,
   "id": "1e0492a8",
   "metadata": {},
   "outputs": [],
   "source": [
    "# clean_scientific_names_df = clean_scientific_names_df[clean_scientific_names_df[\"aphia_id\"] != 278154]"
   ]
  },
  {
   "cell_type": "code",
   "execution_count": 123,
   "id": "dce4b258",
   "metadata": {},
   "outputs": [],
   "source": [
    "# export checkpoint if necessary\n",
    "# clean_scientific_names_df.to_csv(\"checkpoint_api_scientific_names.csv\", index=False)"
   ]
  },
  {
   "cell_type": "markdown",
   "id": "068686ac",
   "metadata": {},
   "source": [
    "# Extra scientific names to add"
   ]
  },
  {
   "cell_type": "code",
   "execution_count": null,
   "id": "dd856018",
   "metadata": {},
   "outputs": [],
   "source": [
    "## upload from checkpoint or cleaned csv file\n",
    "\n",
    "# scientific_names_file = \"/path/to/clean/scientific/name/file\"\n",
    "# clean_scientific_names_df = read_file_to_df(scientific_names_file)\n",
    "# print(clean_scientific_names_df.columns)\n",
    "### rename columns if necessary\n",
    "## clean_scientific_names_df.columns = [\"aphia_id\",\"scientific_name\",\"common_name\",\"taxon_rank\"]\n",
    "# clean_scientific_names_df.sample(3)"
   ]
  },
  {
   "cell_type": "code",
   "execution_count": 36,
   "id": "23f626aa",
   "metadata": {},
   "outputs": [],
   "source": [
    "# Dictionary of additional scientific names and column names to check:\n",
    "\n",
    "scientific_names_todo = {'Chondrichthyes' : None,\n",
    " 'Conger wilsoni' : None,\n",
    " 'Oligoplites saurus' : None,\n",
    " 'Pseudocaranx georgianus' : None,\n",
    " 'Acanthoclininae sp' : None,\n",
    " \"test\": None}\n"
   ]
  },
  {
   "cell_type": "code",
   "execution_count": null,
   "id": "b679d838",
   "metadata": {},
   "outputs": [],
   "source": [
    "# Get the names from csv: \n",
    "\n",
    "scientific_names_file_to_check = \"path/to/file/with/more/scientific/names\"\n",
    "scientific_names_file_to_check_df = read_file_to_df(scientific_names_file_to_check)\n",
    "scientific_names_todo = scientific_names_file_to_check_df.set_index('scientificName')['commonName'].to_dict()\n",
    "print(scientific_names_todo)\n",
    "len(scientific_names_todo)\n"
   ]
  },
  {
   "cell_type": "code",
   "execution_count": null,
   "id": "ef60c42f",
   "metadata": {},
   "outputs": [],
   "source": [
    "remaining_names_todo = set(scientific_names_todo.keys()) - set(clean_scientific_names_df[\"scientific_name\"])\n",
    "print(len(remaining_names_todo))\n",
    "remaining_names_todo"
   ]
  },
  {
   "cell_type": "code",
   "execution_count": null,
   "id": "3773fa96",
   "metadata": {},
   "outputs": [],
   "source": [
    "# fis this based on above\n",
    "to_add_to_df = []\n",
    "for sn in remaining_names_todo:\n",
    "    to_add_to_df.append(ScientificNameProcessing(sn, scientific_names_todo[sn]).query_api())\n",
    "new_entries_df = pd.DataFrame(to_add_to_df)\n",
    "new_entries_df"
   ]
  },
  {
   "cell_type": "code",
   "execution_count": null,
   "id": "dbc1aa90",
   "metadata": {},
   "outputs": [],
   "source": [
    "# TODO check if this works?\n",
    "new_clean_scientific_names_df = pd.concat([clean_scientific_names_df, new_entries_df], ignore_index=True)\n",
    "print(len(new_clean_scientific_names_df))\n",
    "new_clean_scientific_names_df.sample(3)\n"
   ]
  },
  {
   "cell_type": "code",
   "execution_count": null,
   "id": "ccace712",
   "metadata": {},
   "outputs": [],
   "source": [
    "clean_scientific_names_df = new_clean_scientific_names_df\n",
    "# export checkpoint if necessary\n",
    "# clean_scientific_names_df.to_csv(\"checkpoint_api_scientific_names.csv\", index=False)"
   ]
  },
  {
   "cell_type": "markdown",
   "id": "c04e7aee",
   "metadata": {},
   "source": [
    "## Review daaframe for duplicates "
   ]
  },
  {
   "cell_type": "code",
   "execution_count": null,
   "id": "66cb6ddc",
   "metadata": {},
   "outputs": [],
   "source": [
    "clean_scientific_names_df[clean_scientific_names_df.duplicated(subset='scientific_name', keep='last')]"
   ]
  },
  {
   "cell_type": "code",
   "execution_count": null,
   "id": "77750fa8",
   "metadata": {},
   "outputs": [],
   "source": [
    "clean_scientific_names_df[clean_scientific_names_df.duplicated(subset='common_name', keep=False) & ~clean_scientific_names_df[\"common_name\"].isna()]"
   ]
  },
  {
   "cell_type": "code",
   "execution_count": null,
   "id": "20dee7b9",
   "metadata": {},
   "outputs": [],
   "source": [
    "clean_scientific_names_df[clean_scientific_names_df.duplicated(subset='aphia_id', keep=False)]"
   ]
  },
  {
   "cell_type": "markdown",
   "id": "8f677479",
   "metadata": {},
   "source": [
    "### other reviews: "
   ]
  },
  {
   "cell_type": "code",
   "execution_count": null,
   "id": "4b8c9647",
   "metadata": {},
   "outputs": [],
   "source": [
    "# check scintific names that end with sp\n",
    "clean_scientific_names_df[clean_scientific_names_df[\"scientific_name\"].str.endswith(\" sp\")]"
   ]
  },
  {
   "cell_type": "code",
   "execution_count": null,
   "id": "58525c98",
   "metadata": {},
   "outputs": [],
   "source": [
    "clean_scientific_names_df[\"scientific_name\"].str.split()"
   ]
  },
  {
   "cell_type": "code",
   "execution_count": null,
   "id": "57dc4347",
   "metadata": {},
   "outputs": [],
   "source": [
    "#TODO???\n",
    "clean_scientific_names_df[len(clean_scientific_names_df[\"scientific_name\"].str.split()) != 2]"
   ]
  },
  {
   "cell_type": "markdown",
   "id": "8551a89c",
   "metadata": {},
   "source": [
    "Replace common names that are the same as the scintific names with None"
   ]
  },
  {
   "cell_type": "code",
   "execution_count": 53,
   "id": "a91e3365",
   "metadata": {},
   "outputs": [],
   "source": [
    "def delete_common_name(row):\n",
    "    if isinstance(row[\"common_name\"], float):\n",
    "        return None\n",
    "    if row[\"common_name\"].lower() == row[\"scientific_name\"].lower():\n",
    "        return None\n",
    "    return row[\"common_name\"]\n"
   ]
  },
  {
   "cell_type": "code",
   "execution_count": null,
   "id": "6802abeb",
   "metadata": {},
   "outputs": [],
   "source": [
    "clean_scientific_names_df[\"common_name\"] = clean_scientific_names_df.apply(delete_common_name, axis=1)"
   ]
  },
  {
   "cell_type": "markdown",
   "id": "b988f53a",
   "metadata": {},
   "source": [
    "# Review dataframe "
   ]
  },
  {
   "cell_type": "code",
   "execution_count": 63,
   "id": "22080147",
   "metadata": {},
   "outputs": [],
   "source": [
    "ids_to_check = set()"
   ]
  },
  {
   "cell_type": "code",
   "execution_count": null,
   "id": "26d7e19d",
   "metadata": {},
   "outputs": [],
   "source": [
    "non_matching_names = clean_scientific_names_df[clean_scientific_names_df[\"scientific_names_match\"] != True]\n",
    "print(\"Non matching names n: \",len(non_matching_names))\n",
    "print(list(non_matching_names[\"aphia_id\"]))\n",
    "to_add = list(non_matching_names[\"aphia_id\"])\n",
    "ids_to_check.update(to_add)\n",
    "non_matching_names"
   ]
  },
  {
   "cell_type": "code",
   "execution_count": null,
   "id": "55cfd13c",
   "metadata": {},
   "outputs": [],
   "source": [
    "non_accepted_names = clean_scientific_names_df[clean_scientific_names_df[\"status\"] != \"accepted\"]\n",
    "print(\"Non accepted names n: \",len(non_accepted_names))\n",
    "print(list(non_accepted_names[\"aphia_id\"]))\n",
    "to_add = list(non_accepted_names[\"aphia_id\"])\n",
    "ids_to_check.update(to_add)\n",
    "non_accepted_names"
   ]
  },
  {
   "cell_type": "code",
   "execution_count": null,
   "id": "0a1ebd44",
   "metadata": {},
   "outputs": [],
   "source": [
    "missing_common_names = clean_scientific_names_df[clean_scientific_names_df[\"common_name\"].isna()]\n",
    "print(\"Missing common names n: \",len(missing_common_names))\n",
    "print(list(missing_common_names[\"aphia_id\"]))\n",
    "to_add = list(missing_common_names[\"aphia_id\"])\n",
    "ids_to_check.update(to_add)\n",
    "missing_common_names"
   ]
  },
  {
   "cell_type": "code",
   "execution_count": null,
   "id": "112e93c5",
   "metadata": {},
   "outputs": [],
   "source": [
    "same_names = clean_scientific_names_df[clean_scientific_names_df[\"common_name\"] == clean_scientific_names_df[\"scientific_name\"]]\n",
    "print(\"Same common and scientific names n: \",len(same_names))\n",
    "print(list(same_names[\"aphia_id\"]))\n",
    "to_add = list(same_names[\"aphia_id\"])\n",
    "ids_to_check.update(to_add)\n",
    "same_names"
   ]
  },
  {
   "cell_type": "code",
   "execution_count": null,
   "id": "8ec22e10",
   "metadata": {},
   "outputs": [],
   "source": [
    "len(ids_to_check)\n",
    "ids_to_check"
   ]
  },
  {
   "cell_type": "markdown",
   "id": "f7bfadce",
   "metadata": {},
   "source": [
    "# Aphia ID to find the rows in the exported csv that need to be checked"
   ]
  },
  {
   "cell_type": "markdown",
   "id": "5ef7b467",
   "metadata": {},
   "source": [
    "Non species taxon: "
   ]
  },
  {
   "cell_type": "code",
   "execution_count": null,
   "id": "d1722ebd-5084-4eca-8a43-cb4af9cbecde",
   "metadata": {},
   "outputs": [],
   "source": [
    "non_species_taxon = clean_scientific_names_df[clean_scientific_names_df[\"taxon_rank\"] != \"Species\"]\n",
    "print(\"Non species rank: \",len(non_species_taxon))\n",
    "print(list(non_species_taxon[\"aphia_id\"]))\n",
    "non_species_taxon"
   ]
  },
  {
   "cell_type": "markdown",
   "id": "0a0c6182",
   "metadata": {},
   "source": [
    "# Export to csv"
   ]
  },
  {
   "cell_type": "code",
   "execution_count": null,
   "id": "9892eef7",
   "metadata": {},
   "outputs": [],
   "source": [
    "clean_scientific_names_df.sample()"
   ]
  },
  {
   "cell_type": "code",
   "execution_count": null,
   "id": "6b66515e",
   "metadata": {},
   "outputs": [],
   "source": [
    "to_export_df = clean_scientific_names_df[[\"aphia_id\",\"scientific_name\", \"common_name\", \"taxon_rank\"]]\n",
    "to_export_df.columns = [\"aphiaID\",\"scientificName\",\"commonName\", \"taxonRank\"]\n",
    "to_export_df.sample()"
   ]
  },
  {
   "cell_type": "code",
   "execution_count": 64,
   "id": "8489449e",
   "metadata": {},
   "outputs": [],
   "source": [
    "clean_scientific_names_df.to_csv(\"clean_scientific_names.csv\", index=False)\n"
   ]
  },
  {
   "cell_type": "markdown",
   "id": "b273d58c-f4ed-4829-8c82-d560fb1a07ac",
   "metadata": {},
   "source": [
    "## Example API return"
   ]
  },
  {
   "cell_type": "code",
   "execution_count": null,
   "id": "7e677441-dfd1-47a4-b7ba-2f91a9d1c4f8",
   "metadata": {},
   "outputs": [],
   "source": [
    "[\n",
    "  {\n",
    "    \"AphiaID\": 277101,\n",
    "    \"url\": \"https://www.marinespecies.org/aphia.php?p=taxdetails&id=277101\",\n",
    "    \"scientificname\": \"Cephaloscyllium isabellum\",\n",
    "    \"authority\": \"(Bonnaterre, 1788)\",\n",
    "    \"status\": \"unaccepted\",\n",
    "    \"unacceptreason\": null,\n",
    "    \"taxonRankID\": 220,\n",
    "    \"rank\": \"Species\",\n",
    "    \"valid_AphiaID\": 298238,\n",
    "    \"valid_name\": \"Cephaloscyllium isabella\",\n",
    "    \"valid_authority\": \"(Bonnaterre, 1788)\",\n",
    "    \"parentNameUsageID\": 204168,\n",
    "    \"kingdom\": \"Animalia\",\n",
    "    \"phylum\": \"Chordata\",\n",
    "    \"class\": \"Elasmobranchii\",\n",
    "    \"order\": \"Carcharhiniformes\",\n",
    "    \"family\": \"Scyliorhinidae\",\n",
    "    \"genus\": \"Cephaloscyllium\",\n",
    "    \"citation\": \"Froese, R. and D. Pauly. Editors. (2024). FishBase. Cephaloscyllium isabellum (Bonnaterre, 1788). Accessed through: World Register of Marine Species at: https://www.marinespecies.org/aphia.php?p=taxdetails&id=277101 on 2024-11-29\",\n",
    "    \"lsid\": \"urn:lsid:marinespecies.org:taxname:277101\",\n",
    "    \"isMarine\": 1,\n",
    "    \"isBrackish\": 0,\n",
    "    \"isFreshwater\": 0,\n",
    "    \"isTerrestrial\": 0,\n",
    "    \"isExtinct\": null,\n",
    "    \"match_type\": \"exact\",\n",
    "    \"modified\": \"2023-01-11T08:59:53.383Z\"\n",
    "  }\n",
    "]"
   ]
  }
 ],
 "metadata": {
  "kernelspec": {
   "display_name": "spyfish",
   "language": "python",
   "name": "python3"
  },
  "language_info": {
   "codemirror_mode": {
    "name": "ipython",
    "version": 3
   },
   "file_extension": ".py",
   "mimetype": "text/x-python",
   "name": "python",
   "nbconvert_exporter": "python",
   "pygments_lexer": "ipython3",
   "version": "3.12.9"
  },
  "toc": {
   "base_numbering": 1,
   "nav_menu": {},
   "number_sections": true,
   "sideBar": true,
   "skip_h1_title": false,
   "title_cell": "Table of Contents",
   "title_sidebar": "Contents",
   "toc_cell": true,
   "toc_position": {},
   "toc_section_display": true,
   "toc_window_display": true
  }
 },
 "nbformat": 4,
 "nbformat_minor": 5
}
