{
 "cells": [
  {
   "cell_type": "markdown",
   "id": "32f0b6f0",
   "metadata": {
    "toc": true
   },
   "source": [
    "<h1>Table of Contents<span class=\"tocSkip\"></span></h1>\n",
    "<div class=\"toc\"><ul class=\"toc-item\"><li><span><a href=\"#Scientific-Names-Validity-Review\" data-toc-modified-id=\"Scientific-Names-Validity-Review-1\"><span class=\"toc-item-num\">1&nbsp;&nbsp;</span>Scientific Names Validity Review</a></span><ul class=\"toc-item\"><li><span><a href=\"#Chose-excel-file-containing-the-scientific-names-to-check\" data-toc-modified-id=\"Chose-excel-file-containing-the-scientific-names-to-check-1.1\"><span class=\"toc-item-num\">1.1&nbsp;&nbsp;</span>Chose excel file containing the scientific names to check</a></span></li><li><span><a href=\"#Small-test-df\" data-toc-modified-id=\"Small-test-df-1.2\"><span class=\"toc-item-num\">1.2&nbsp;&nbsp;</span>Small test df</a></span></li><li><span><a href=\"#Check-each-of-the-scientific-names\" data-toc-modified-id=\"Check-each-of-the-scientific-names-1.3\"><span class=\"toc-item-num\">1.3&nbsp;&nbsp;</span>Check each of the scientific names</a></span></li><li><span><a href=\"#run-the-name-checker-on-each-row\" data-toc-modified-id=\"run-the-name-checker-on-each-row-1.4\"><span class=\"toc-item-num\">1.4&nbsp;&nbsp;</span>run the name checker on each row</a></span></li></ul></li><li><span><a href=\"#run-the-name-checker-on-the-whole-dataframe\" data-toc-modified-id=\"run-the-name-checker-on-the-whole-dataframe-2\"><span class=\"toc-item-num\">2&nbsp;&nbsp;</span>run the name checker on the whole dataframe</a></span></li><li><span><a href=\"#TODOs-and-Extras:\" data-toc-modified-id=\"TODOs-and-Extras:-3\"><span class=\"toc-item-num\">3&nbsp;&nbsp;</span>TODOs and Extras:</a></span><ul class=\"toc-item\"><li><span><a href=\"#potential-todos\" data-toc-modified-id=\"potential-todos-3.1\"><span class=\"toc-item-num\">3.1&nbsp;&nbsp;</span>potential todos</a></span></li><li><span><a href=\"#print-WoRMS-suggestions\" data-toc-modified-id=\"print-WoRMS-suggestions-3.2\"><span class=\"toc-item-num\">3.2&nbsp;&nbsp;</span>print WoRMS suggestions</a></span></li><li><span><a href=\"#Example-API-return\" data-toc-modified-id=\"Example-API-return-3.3\"><span class=\"toc-item-num\">3.3&nbsp;&nbsp;</span>Example API return</a></span></li></ul></li></ul></div>"
   ]
  },
  {
   "cell_type": "code",
   "execution_count": 14,
   "id": "e13aaaf7",
   "metadata": {},
   "outputs": [],
   "source": [
    "# Last changed 2025.03.21"
   ]
  },
  {
   "cell_type": "markdown",
   "id": "1e09ad60",
   "metadata": {},
   "source": [
    "# Scientific Names Validity Review\n",
    "\n",
    "This notebooks is part of the Spyfish data cleaning process and it reviews the validity of species scientific names in a given column of an Excel sheet. \n",
    "\n",
    "The checks are performed with calls to the [WoRMS API](https://www.marinespecies.org/rest/AphiaRecordsByName).\n"
   ]
  },
  {
   "cell_type": "markdown",
   "id": "99b5757c",
   "metadata": {},
   "source": [
    "\n",
    "The output of this notebook creates a csv with the following column:\n",
    "- **aphiaID**: from WoRMS API\n",
    "- **scientificName**: the scientific name, validated by the WoRMS API\n",
    "- **commonName**: the common name\n",
    "- **taxonRank**: the corresponding rank of the scientific name\n",
    "\n"
   ]
  },
  {
   "cell_type": "code",
   "execution_count": 3,
   "id": "12dcaf71-cfc0-46a8-85ec-daafffc60922",
   "metadata": {},
   "outputs": [],
   "source": [
    "import pandas as pd\n",
    "from dataclasses import asdict\n",
    "\n",
    "from sftk.utils import read_file_to_df\n",
    "from sftk.clean_data import ScientificNameProcessing"
   ]
  },
  {
   "cell_type": "markdown",
   "id": "2a79e610",
   "metadata": {},
   "source": [
    "No module sftk or similar error?\n",
    "Check the README.md Usage section for instructions."
   ]
  },
  {
   "cell_type": "markdown",
   "id": "e6117ded",
   "metadata": {},
   "source": [
    "## Chose excel file containing the scientific names to check"
   ]
  },
  {
   "cell_type": "code",
   "execution_count": 39,
   "id": "a8e6d48d-fbd0-448f-ba1b-ec228018eab5",
   "metadata": {
    "scrolled": false
   },
   "outputs": [],
   "source": [
    "## Run the next two cells if you want to use a widget to select your file otherwise continue below to add path: \n",
    "\n",
    "# from ipyfilechooser import FileChooser\n",
    "# from IPython.display import display\n",
    "\n",
    "# file_chooser = FileChooser(title='<b>Select the Excel file containing scientfic names</b>')\n",
    "# display(file_chooser)\n"
   ]
  },
  {
   "cell_type": "code",
   "execution_count": 40,
   "id": "ed79bc89",
   "metadata": {},
   "outputs": [],
   "source": [
    "# scientific_names_file = file_chooser.selected\n",
    "# assert scientific_names_file != None, \"Select the file containing the scientific names in the cell above.\"\n",
    "# print(f\"The scientific_names_file is {scientific_names_file}\")"
   ]
  },
  {
   "cell_type": "code",
   "execution_count": 41,
   "id": "154fa830",
   "metadata": {},
   "outputs": [
    {
     "name": "stdout",
     "output_type": "stream",
     "text": [
      "The scientific_names_file is ../tests/mock_data/sample_clean_scientific_names.csv\n"
     ]
    }
   ],
   "source": [
    "scientific_names_file = \"/path/to/scientific_name/csv_or_excel\"\n",
    "scientific_names_file = \"../tests/mock_data/sample_clean_scientific_names.csv\"\n",
    "print(f\"The scientific_names_file is {scientific_names_file}\")\n",
    "\n"
   ]
  },
  {
   "cell_type": "code",
   "execution_count": 42,
   "id": "c4a818c5-a462-4697-a413-7878d5b4f7fe",
   "metadata": {},
   "outputs": [
    {
     "data": {
      "text/html": [
       "<div>\n",
       "<style scoped>\n",
       "    .dataframe tbody tr th:only-of-type {\n",
       "        vertical-align: middle;\n",
       "    }\n",
       "\n",
       "    .dataframe tbody tr th {\n",
       "        vertical-align: top;\n",
       "    }\n",
       "\n",
       "    .dataframe thead th {\n",
       "        text-align: right;\n",
       "    }\n",
       "</style>\n",
       "<table border=\"1\" class=\"dataframe\">\n",
       "  <thead>\n",
       "    <tr style=\"text-align: right;\">\n",
       "      <th></th>\n",
       "      <th>aphiaID</th>\n",
       "      <th>commonName</th>\n",
       "      <th>scientificName</th>\n",
       "      <th>taxonRank</th>\n",
       "    </tr>\n",
       "  </thead>\n",
       "  <tbody>\n",
       "    <tr>\n",
       "      <th>0</th>\n",
       "      <td>275992</td>\n",
       "      <td>Giant stargazer</td>\n",
       "      <td>Kathetostoma giganteum</td>\n",
       "      <td>Species</td>\n",
       "    </tr>\n",
       "    <tr>\n",
       "      <th>2</th>\n",
       "      <td>125598</td>\n",
       "      <td>Gurnard</td>\n",
       "      <td>Triglidae sp</td>\n",
       "      <td>Family</td>\n",
       "    </tr>\n",
       "    <tr>\n",
       "      <th>1</th>\n",
       "      <td>277101</td>\n",
       "      <td>Carpet shark</td>\n",
       "      <td>Cephaloscyllium isabella</td>\n",
       "      <td>Species</td>\n",
       "    </tr>\n",
       "  </tbody>\n",
       "</table>\n",
       "</div>"
      ],
      "text/plain": [
       "   aphiaID       commonName            scientificName taxonRank\n",
       "0   275992  Giant stargazer    Kathetostoma giganteum   Species\n",
       "2   125598          Gurnard              Triglidae sp    Family\n",
       "1   277101     Carpet shark  Cephaloscyllium isabella   Species"
      ]
     },
     "execution_count": 42,
     "metadata": {},
     "output_type": "execute_result"
    }
   ],
   "source": [
    "raw_scientific_names_df = read_file_to_df(scientific_names_file)\n",
    "raw_scientific_names_df.sample(3)"
   ]
  },
  {
   "cell_type": "code",
   "execution_count": 43,
   "id": "fd23cd6b",
   "metadata": {},
   "outputs": [
    {
     "data": {
      "text/plain": [
       "Index(['aphiaID', 'commonName', 'scientificName', 'taxonRank'], dtype='object')"
      ]
     },
     "execution_count": 43,
     "metadata": {},
     "output_type": "execute_result"
    }
   ],
   "source": [
    "raw_scientific_names_df.columns"
   ]
  },
  {
   "cell_type": "markdown",
   "id": "4b2ae123",
   "metadata": {},
   "source": [
    "## Small test df\n",
    "To use for testing etc in order to avoid multiple API calls"
   ]
  },
  {
   "cell_type": "code",
   "execution_count": 8,
   "id": "d3603a87",
   "metadata": {},
   "outputs": [
    {
     "data": {
      "text/html": [
       "<div>\n",
       "<style scoped>\n",
       "    .dataframe tbody tr th:only-of-type {\n",
       "        vertical-align: middle;\n",
       "    }\n",
       "\n",
       "    .dataframe tbody tr th {\n",
       "        vertical-align: top;\n",
       "    }\n",
       "\n",
       "    .dataframe thead th {\n",
       "        text-align: right;\n",
       "    }\n",
       "</style>\n",
       "<table border=\"1\" class=\"dataframe\">\n",
       "  <thead>\n",
       "    <tr style=\"text-align: right;\">\n",
       "      <th></th>\n",
       "      <th>scientificName</th>\n",
       "      <th>commonName</th>\n",
       "    </tr>\n",
       "  </thead>\n",
       "  <tbody>\n",
       "    <tr>\n",
       "      <th>0</th>\n",
       "      <td>Kathetostoma giganteum</td>\n",
       "      <td>Test</td>\n",
       "    </tr>\n",
       "    <tr>\n",
       "      <th>1</th>\n",
       "      <td>Kathetostoma giganteu</td>\n",
       "      <td>Test</td>\n",
       "    </tr>\n",
       "    <tr>\n",
       "      <th>2</th>\n",
       "      <td>Cephaloscyllium isabellum</td>\n",
       "      <td>Test</td>\n",
       "    </tr>\n",
       "    <tr>\n",
       "      <th>3</th>\n",
       "      <td>Triglidae sp</td>\n",
       "      <td>Test</td>\n",
       "    </tr>\n",
       "    <tr>\n",
       "      <th>4</th>\n",
       "      <td>Blennioidei sp</td>\n",
       "      <td>Test</td>\n",
       "    </tr>\n",
       "  </tbody>\n",
       "</table>\n",
       "</div>"
      ],
      "text/plain": [
       "              scientificName commonName\n",
       "0     Kathetostoma giganteum       Test\n",
       "1      Kathetostoma giganteu       Test\n",
       "2  Cephaloscyllium isabellum       Test\n",
       "3               Triglidae sp       Test\n",
       "4             Blennioidei sp       Test"
      ]
     },
     "execution_count": 8,
     "metadata": {},
     "output_type": "execute_result"
    }
   ],
   "source": [
    "raw_scientific_names_df = pd.DataFrame(['Kathetostoma giganteum', # correct\n",
    "                                    'Kathetostoma giganteu', # typo\n",
    "                                    'Cephaloscyllium isabellum', # replaced by new nomenclature\n",
    "                                    'Triglidae sp', # only genus correct\n",
    "                                    'Blennioidei sp' # new nomenclature genus to fix\n",
    "                                   ], columns=[\"scientificName\"])\n",
    "raw_scientific_names_df[\"commonName\"] = \"Test\"\n",
    "raw_scientific_names_df"
   ]
  },
  {
   "cell_type": "markdown",
   "id": "3bc595b1",
   "metadata": {},
   "source": [
    "## Run the name checker on each row and check the scientific names "
   ]
  },
  {
   "cell_type": "code",
   "execution_count": 9,
   "id": "b078277a",
   "metadata": {},
   "outputs": [],
   "source": [
    "# Replace the name of the columns containing scientfic/common names if needed\n",
    "\n",
    "def process_dataframe_row(row):\n",
    "    # get relevant values from original dataframe\n",
    "    scientific_name = row.get(\"scientificName\")\n",
    "    common_name = row.get(\"commonName\")\n",
    "    \n",
    "    return ScientificNameProcessing(scientific_name, common_name).query_api()"
   ]
  },
  {
   "cell_type": "code",
   "execution_count": 10,
   "id": "6629272f",
   "metadata": {},
   "outputs": [
    {
     "name": "stderr",
     "output_type": "stream",
     "text": [
      "WARNING:root:No results found for scientific name Kathetostoma giganteu, API request failed with status code 204.\n"
     ]
    },
    {
     "data": {
      "text/plain": [
       "0    ScientificNameEntry(aphia_id=275992, common_na...\n",
       "1    ScientificNameEntry(aphia_id=-1, common_name='...\n",
       "2    ScientificNameEntry(aphia_id=277101, common_na...\n",
       "3    ScientificNameEntry(aphia_id=125598, common_na...\n",
       "4    ScientificNameEntry(aphia_id=151738, common_na...\n",
       "dtype: object"
      ]
     },
     "execution_count": 10,
     "metadata": {},
     "output_type": "execute_result"
    }
   ],
   "source": [
    "clean_scientific_names_df = raw_scientific_names_df.apply(process_dataframe_row, axis=1)\n",
    "clean_scientific_names_df"
   ]
  },
  {
   "cell_type": "code",
   "execution_count": 11,
   "id": "0407ea82",
   "metadata": {},
   "outputs": [
    {
     "data": {
      "text/html": [
       "<div>\n",
       "<style scoped>\n",
       "    .dataframe tbody tr th:only-of-type {\n",
       "        vertical-align: middle;\n",
       "    }\n",
       "\n",
       "    .dataframe tbody tr th {\n",
       "        vertical-align: top;\n",
       "    }\n",
       "\n",
       "    .dataframe thead th {\n",
       "        text-align: right;\n",
       "    }\n",
       "</style>\n",
       "<table border=\"1\" class=\"dataframe\">\n",
       "  <thead>\n",
       "    <tr style=\"text-align: right;\">\n",
       "      <th></th>\n",
       "      <th>aphia_id</th>\n",
       "      <th>common_name</th>\n",
       "      <th>scientific_name</th>\n",
       "      <th>scientific_name_to_check</th>\n",
       "      <th>scientific_names_match</th>\n",
       "      <th>taxon_rank</th>\n",
       "    </tr>\n",
       "  </thead>\n",
       "  <tbody>\n",
       "    <tr>\n",
       "      <th>0</th>\n",
       "      <td>275992</td>\n",
       "      <td>Test</td>\n",
       "      <td>Kathetostoma giganteum</td>\n",
       "      <td>Kathetostoma giganteum</td>\n",
       "      <td>True</td>\n",
       "      <td>Species</td>\n",
       "    </tr>\n",
       "    <tr>\n",
       "      <th>1</th>\n",
       "      <td>-1</td>\n",
       "      <td>Test</td>\n",
       "      <td>None</td>\n",
       "      <td>Kathetostoma giganteu</td>\n",
       "      <td>False</td>\n",
       "      <td>None</td>\n",
       "    </tr>\n",
       "    <tr>\n",
       "      <th>2</th>\n",
       "      <td>277101</td>\n",
       "      <td>Test</td>\n",
       "      <td>Cephaloscyllium isabella</td>\n",
       "      <td>Cephaloscyllium isabellum</td>\n",
       "      <td>False</td>\n",
       "      <td>Species</td>\n",
       "    </tr>\n",
       "    <tr>\n",
       "      <th>3</th>\n",
       "      <td>125598</td>\n",
       "      <td>Test</td>\n",
       "      <td>Triglidae sp</td>\n",
       "      <td>Triglidae</td>\n",
       "      <td>True</td>\n",
       "      <td>Family</td>\n",
       "    </tr>\n",
       "    <tr>\n",
       "      <th>4</th>\n",
       "      <td>151738</td>\n",
       "      <td>Test</td>\n",
       "      <td>Blenniiformes sp</td>\n",
       "      <td>Blennioidei</td>\n",
       "      <td>False</td>\n",
       "      <td>Suborder</td>\n",
       "    </tr>\n",
       "  </tbody>\n",
       "</table>\n",
       "</div>"
      ],
      "text/plain": [
       "   aphia_id common_name           scientific_name   scientific_name_to_check  \\\n",
       "0    275992        Test    Kathetostoma giganteum     Kathetostoma giganteum   \n",
       "1        -1        Test                      None      Kathetostoma giganteu   \n",
       "2    277101        Test  Cephaloscyllium isabella  Cephaloscyllium isabellum   \n",
       "3    125598        Test              Triglidae sp                  Triglidae   \n",
       "4    151738        Test          Blenniiformes sp                Blennioidei   \n",
       "\n",
       "   scientific_names_match taxon_rank  \n",
       "0                    True    Species  \n",
       "1                   False       None  \n",
       "2                   False    Species  \n",
       "3                    True     Family  \n",
       "4                   False   Suborder  "
      ]
     },
     "execution_count": 11,
     "metadata": {},
     "output_type": "execute_result"
    }
   ],
   "source": [
    "# Convert list of dataclass instances to DataFrame\n",
    "# TODO refactor this\n",
    "clean_scientific_names_df = pd.DataFrame(clean_scientific_names_df.tolist())\n",
    "\n",
    "clean_scientific_names_df"
   ]
  },
  {
   "cell_type": "markdown",
   "id": "068686ac",
   "metadata": {},
   "source": [
    "# Extra scientific names to add onto the list "
   ]
  },
  {
   "cell_type": "code",
   "execution_count": 12,
   "id": "e40dce40",
   "metadata": {},
   "outputs": [
    {
     "data": {
      "text/plain": [
       "{'Chondrichthyes',\n",
       " 'Conger wilsoni',\n",
       " 'Oligoplites saurus',\n",
       " 'Pseudocaranx georgianus'}"
      ]
     },
     "execution_count": 12,
     "metadata": {},
     "output_type": "execute_result"
    }
   ],
   "source": [
    "# Create DataFrame from dictionary values\n",
    "\n",
    "scientific_names_todo = set(['Chondrichthyes', # FIX I think too wide\n",
    " 'Conger wilsoni',\n",
    " 'Oligoplites saurus',\n",
    " 'Pseudocaranx georgianus']\n",
    ")\n",
    "\n",
    "\n",
    "for sn in clean_scientific_names_df[\"scientific_name\"]:\n",
    "   scientific_names_todo.discard(sn)\n",
    "\n",
    "\n",
    "scientific_names_todo"
   ]
  },
  {
   "cell_type": "code",
   "execution_count": 13,
   "id": "ea608d29",
   "metadata": {},
   "outputs": [
    {
     "data": {
      "text/html": [
       "<div>\n",
       "<style scoped>\n",
       "    .dataframe tbody tr th:only-of-type {\n",
       "        vertical-align: middle;\n",
       "    }\n",
       "\n",
       "    .dataframe tbody tr th {\n",
       "        vertical-align: top;\n",
       "    }\n",
       "\n",
       "    .dataframe thead th {\n",
       "        text-align: right;\n",
       "    }\n",
       "</style>\n",
       "<table border=\"1\" class=\"dataframe\">\n",
       "  <thead>\n",
       "    <tr style=\"text-align: right;\">\n",
       "      <th></th>\n",
       "      <th>aphia_id</th>\n",
       "      <th>common_name</th>\n",
       "      <th>scientific_name</th>\n",
       "      <th>scientific_name_to_check</th>\n",
       "      <th>scientific_names_match</th>\n",
       "      <th>taxon_rank</th>\n",
       "    </tr>\n",
       "  </thead>\n",
       "  <tbody>\n",
       "    <tr>\n",
       "      <th>0</th>\n",
       "      <td>159645</td>\n",
       "      <td>None</td>\n",
       "      <td>Oligoplites saurus</td>\n",
       "      <td>Oligoplites saurus</td>\n",
       "      <td>True</td>\n",
       "      <td>Species</td>\n",
       "    </tr>\n",
       "    <tr>\n",
       "      <th>1</th>\n",
       "      <td>1039991</td>\n",
       "      <td>None</td>\n",
       "      <td>Pseudocaranx georgianus</td>\n",
       "      <td>Pseudocaranx georgianus</td>\n",
       "      <td>True</td>\n",
       "      <td>Species</td>\n",
       "    </tr>\n",
       "    <tr>\n",
       "      <th>2</th>\n",
       "      <td>217546</td>\n",
       "      <td>None</td>\n",
       "      <td>Conger wilsoni</td>\n",
       "      <td>Conger wilsoni</td>\n",
       "      <td>True</td>\n",
       "      <td>Species</td>\n",
       "    </tr>\n",
       "    <tr>\n",
       "      <th>3</th>\n",
       "      <td>1517375</td>\n",
       "      <td>None</td>\n",
       "      <td>Chondrichthyes</td>\n",
       "      <td>Chondrichthyes</td>\n",
       "      <td>True</td>\n",
       "      <td>Parvphylum</td>\n",
       "    </tr>\n",
       "  </tbody>\n",
       "</table>\n",
       "</div>"
      ],
      "text/plain": [
       "   aphia_id common_name          scientific_name scientific_name_to_check  \\\n",
       "0    159645        None       Oligoplites saurus       Oligoplites saurus   \n",
       "1   1039991        None  Pseudocaranx georgianus  Pseudocaranx georgianus   \n",
       "2    217546        None           Conger wilsoni           Conger wilsoni   \n",
       "3   1517375        None           Chondrichthyes           Chondrichthyes   \n",
       "\n",
       "   scientific_names_match  taxon_rank  \n",
       "0                    True     Species  \n",
       "1                    True     Species  \n",
       "2                    True     Species  \n",
       "3                    True  Parvphylum  "
      ]
     },
     "execution_count": 13,
     "metadata": {},
     "output_type": "execute_result"
    }
   ],
   "source": [
    "to_add_to_df = []\n",
    "for sn in scientific_names_todo:\n",
    "    to_add_to_df.append(ScientificNameProcessing(sn).query_api())\n",
    "new_entries_df = pd.DataFrame(to_add_to_df)\n",
    "new_entries_df\n"
   ]
  },
  {
   "cell_type": "code",
   "execution_count": 14,
   "id": "dbc1aa90",
   "metadata": {},
   "outputs": [],
   "source": [
    "\n",
    "clean_scientific_names_df = pd.concat([clean_scientific_names_df, new_entries_df], ignore_index=True)\n",
    "\n",
    "clean_scientific_names_df.columns = [\"aphiaID\", \"commonName\",\"scientificName\",\"oldScientificName\",\"scientificNamesMatch\",\"taxonRank\"]"
   ]
  },
  {
   "cell_type": "code",
   "execution_count": 15,
   "id": "7ca1970f",
   "metadata": {},
   "outputs": [
    {
     "data": {
      "text/html": [
       "<div>\n",
       "<style scoped>\n",
       "    .dataframe tbody tr th:only-of-type {\n",
       "        vertical-align: middle;\n",
       "    }\n",
       "\n",
       "    .dataframe tbody tr th {\n",
       "        vertical-align: top;\n",
       "    }\n",
       "\n",
       "    .dataframe thead th {\n",
       "        text-align: right;\n",
       "    }\n",
       "</style>\n",
       "<table border=\"1\" class=\"dataframe\">\n",
       "  <thead>\n",
       "    <tr style=\"text-align: right;\">\n",
       "      <th></th>\n",
       "      <th>aphiaID</th>\n",
       "      <th>commonName</th>\n",
       "      <th>scientificName</th>\n",
       "      <th>oldScientificName</th>\n",
       "      <th>scientificNamesMatch</th>\n",
       "      <th>taxonRank</th>\n",
       "    </tr>\n",
       "  </thead>\n",
       "  <tbody>\n",
       "    <tr>\n",
       "      <th>0</th>\n",
       "      <td>275992</td>\n",
       "      <td>Test</td>\n",
       "      <td>Kathetostoma giganteum</td>\n",
       "      <td>Kathetostoma giganteum</td>\n",
       "      <td>True</td>\n",
       "      <td>Species</td>\n",
       "    </tr>\n",
       "    <tr>\n",
       "      <th>1</th>\n",
       "      <td>-1</td>\n",
       "      <td>Test</td>\n",
       "      <td>None</td>\n",
       "      <td>Kathetostoma giganteu</td>\n",
       "      <td>False</td>\n",
       "      <td>None</td>\n",
       "    </tr>\n",
       "    <tr>\n",
       "      <th>2</th>\n",
       "      <td>277101</td>\n",
       "      <td>Test</td>\n",
       "      <td>Cephaloscyllium isabella</td>\n",
       "      <td>Cephaloscyllium isabellum</td>\n",
       "      <td>False</td>\n",
       "      <td>Species</td>\n",
       "    </tr>\n",
       "    <tr>\n",
       "      <th>3</th>\n",
       "      <td>125598</td>\n",
       "      <td>Test</td>\n",
       "      <td>Triglidae sp</td>\n",
       "      <td>Triglidae</td>\n",
       "      <td>True</td>\n",
       "      <td>Family</td>\n",
       "    </tr>\n",
       "    <tr>\n",
       "      <th>4</th>\n",
       "      <td>151738</td>\n",
       "      <td>Test</td>\n",
       "      <td>Blenniiformes sp</td>\n",
       "      <td>Blennioidei</td>\n",
       "      <td>False</td>\n",
       "      <td>Suborder</td>\n",
       "    </tr>\n",
       "    <tr>\n",
       "      <th>5</th>\n",
       "      <td>159645</td>\n",
       "      <td>None</td>\n",
       "      <td>Oligoplites saurus</td>\n",
       "      <td>Oligoplites saurus</td>\n",
       "      <td>True</td>\n",
       "      <td>Species</td>\n",
       "    </tr>\n",
       "    <tr>\n",
       "      <th>6</th>\n",
       "      <td>1039991</td>\n",
       "      <td>None</td>\n",
       "      <td>Pseudocaranx georgianus</td>\n",
       "      <td>Pseudocaranx georgianus</td>\n",
       "      <td>True</td>\n",
       "      <td>Species</td>\n",
       "    </tr>\n",
       "    <tr>\n",
       "      <th>7</th>\n",
       "      <td>217546</td>\n",
       "      <td>None</td>\n",
       "      <td>Conger wilsoni</td>\n",
       "      <td>Conger wilsoni</td>\n",
       "      <td>True</td>\n",
       "      <td>Species</td>\n",
       "    </tr>\n",
       "    <tr>\n",
       "      <th>8</th>\n",
       "      <td>1517375</td>\n",
       "      <td>None</td>\n",
       "      <td>Chondrichthyes</td>\n",
       "      <td>Chondrichthyes</td>\n",
       "      <td>True</td>\n",
       "      <td>Parvphylum</td>\n",
       "    </tr>\n",
       "  </tbody>\n",
       "</table>\n",
       "</div>"
      ],
      "text/plain": [
       "   aphiaID commonName            scientificName          oldScientificName  \\\n",
       "0   275992       Test    Kathetostoma giganteum     Kathetostoma giganteum   \n",
       "1       -1       Test                      None      Kathetostoma giganteu   \n",
       "2   277101       Test  Cephaloscyllium isabella  Cephaloscyllium isabellum   \n",
       "3   125598       Test              Triglidae sp                  Triglidae   \n",
       "4   151738       Test          Blenniiformes sp                Blennioidei   \n",
       "5   159645       None        Oligoplites saurus         Oligoplites saurus   \n",
       "6  1039991       None   Pseudocaranx georgianus    Pseudocaranx georgianus   \n",
       "7   217546       None            Conger wilsoni             Conger wilsoni   \n",
       "8  1517375       None            Chondrichthyes             Chondrichthyes   \n",
       "\n",
       "   scientificNamesMatch   taxonRank  \n",
       "0                  True     Species  \n",
       "1                 False        None  \n",
       "2                 False     Species  \n",
       "3                  True      Family  \n",
       "4                 False    Suborder  \n",
       "5                  True     Species  \n",
       "6                  True     Species  \n",
       "7                  True     Species  \n",
       "8                  True  Parvphylum  "
      ]
     },
     "execution_count": 15,
     "metadata": {},
     "output_type": "execute_result"
    }
   ],
   "source": [
    "clean_scientific_names_df"
   ]
  },
  {
   "cell_type": "markdown",
   "id": "b988f53a",
   "metadata": {},
   "source": [
    "# Review dataframe "
   ]
  },
  {
   "cell_type": "code",
   "execution_count": 16,
   "id": "d0d55a0c",
   "metadata": {},
   "outputs": [
    {
     "data": {
      "text/plain": [
       "True"
      ]
     },
     "execution_count": 16,
     "metadata": {},
     "output_type": "execute_result"
    }
   ],
   "source": [
    "# check if all scientific names accounted for? will flag errors\n",
    "len(clean_scientific_names_df) == len(raw_scientific_names_df) + len(to_add_to_df)"
   ]
  },
  {
   "cell_type": "code",
   "execution_count": 17,
   "id": "22080147",
   "metadata": {},
   "outputs": [],
   "source": [
    "ids_to_check = set()"
   ]
  },
  {
   "cell_type": "code",
   "execution_count": 18,
   "id": "26d7e19d",
   "metadata": {},
   "outputs": [
    {
     "name": "stdout",
     "output_type": "stream",
     "text": [
      "Non matching names n:  3\n",
      "[-1, 277101, 151738]\n"
     ]
    },
    {
     "data": {
      "text/html": [
       "<div>\n",
       "<style scoped>\n",
       "    .dataframe tbody tr th:only-of-type {\n",
       "        vertical-align: middle;\n",
       "    }\n",
       "\n",
       "    .dataframe tbody tr th {\n",
       "        vertical-align: top;\n",
       "    }\n",
       "\n",
       "    .dataframe thead th {\n",
       "        text-align: right;\n",
       "    }\n",
       "</style>\n",
       "<table border=\"1\" class=\"dataframe\">\n",
       "  <thead>\n",
       "    <tr style=\"text-align: right;\">\n",
       "      <th></th>\n",
       "      <th>aphiaID</th>\n",
       "      <th>commonName</th>\n",
       "      <th>scientificName</th>\n",
       "      <th>oldScientificName</th>\n",
       "      <th>scientificNamesMatch</th>\n",
       "      <th>taxonRank</th>\n",
       "    </tr>\n",
       "  </thead>\n",
       "  <tbody>\n",
       "    <tr>\n",
       "      <th>1</th>\n",
       "      <td>-1</td>\n",
       "      <td>Test</td>\n",
       "      <td>None</td>\n",
       "      <td>Kathetostoma giganteu</td>\n",
       "      <td>False</td>\n",
       "      <td>None</td>\n",
       "    </tr>\n",
       "    <tr>\n",
       "      <th>2</th>\n",
       "      <td>277101</td>\n",
       "      <td>Test</td>\n",
       "      <td>Cephaloscyllium isabella</td>\n",
       "      <td>Cephaloscyllium isabellum</td>\n",
       "      <td>False</td>\n",
       "      <td>Species</td>\n",
       "    </tr>\n",
       "    <tr>\n",
       "      <th>4</th>\n",
       "      <td>151738</td>\n",
       "      <td>Test</td>\n",
       "      <td>Blenniiformes sp</td>\n",
       "      <td>Blennioidei</td>\n",
       "      <td>False</td>\n",
       "      <td>Suborder</td>\n",
       "    </tr>\n",
       "  </tbody>\n",
       "</table>\n",
       "</div>"
      ],
      "text/plain": [
       "   aphiaID commonName            scientificName          oldScientificName  \\\n",
       "1       -1       Test                      None      Kathetostoma giganteu   \n",
       "2   277101       Test  Cephaloscyllium isabella  Cephaloscyllium isabellum   \n",
       "4   151738       Test          Blenniiformes sp                Blennioidei   \n",
       "\n",
       "   scientificNamesMatch taxonRank  \n",
       "1                 False      None  \n",
       "2                 False   Species  \n",
       "4                 False  Suborder  "
      ]
     },
     "execution_count": 18,
     "metadata": {},
     "output_type": "execute_result"
    }
   ],
   "source": [
    "non_matching_names = clean_scientific_names_df[clean_scientific_names_df[\"scientificNamesMatch\"] != True]\n",
    "print(\"Non matching names n: \",len(non_matching_names))\n",
    "print(list(non_matching_names[\"aphiaID\"]))\n",
    "to_add = list(non_matching_names[\"aphiaID\"])\n",
    "ids_to_check.update(to_add)\n",
    "non_matching_names"
   ]
  },
  {
   "cell_type": "code",
   "execution_count": 19,
   "id": "0a1ebd44",
   "metadata": {},
   "outputs": [
    {
     "name": "stdout",
     "output_type": "stream",
     "text": [
      "Missing common names n:  4\n",
      "[159645, 1039991, 217546, 1517375]\n"
     ]
    },
    {
     "data": {
      "text/html": [
       "<div>\n",
       "<style scoped>\n",
       "    .dataframe tbody tr th:only-of-type {\n",
       "        vertical-align: middle;\n",
       "    }\n",
       "\n",
       "    .dataframe tbody tr th {\n",
       "        vertical-align: top;\n",
       "    }\n",
       "\n",
       "    .dataframe thead th {\n",
       "        text-align: right;\n",
       "    }\n",
       "</style>\n",
       "<table border=\"1\" class=\"dataframe\">\n",
       "  <thead>\n",
       "    <tr style=\"text-align: right;\">\n",
       "      <th></th>\n",
       "      <th>aphiaID</th>\n",
       "      <th>commonName</th>\n",
       "      <th>scientificName</th>\n",
       "      <th>oldScientificName</th>\n",
       "      <th>scientificNamesMatch</th>\n",
       "      <th>taxonRank</th>\n",
       "    </tr>\n",
       "  </thead>\n",
       "  <tbody>\n",
       "    <tr>\n",
       "      <th>5</th>\n",
       "      <td>159645</td>\n",
       "      <td>None</td>\n",
       "      <td>Oligoplites saurus</td>\n",
       "      <td>Oligoplites saurus</td>\n",
       "      <td>True</td>\n",
       "      <td>Species</td>\n",
       "    </tr>\n",
       "    <tr>\n",
       "      <th>6</th>\n",
       "      <td>1039991</td>\n",
       "      <td>None</td>\n",
       "      <td>Pseudocaranx georgianus</td>\n",
       "      <td>Pseudocaranx georgianus</td>\n",
       "      <td>True</td>\n",
       "      <td>Species</td>\n",
       "    </tr>\n",
       "    <tr>\n",
       "      <th>7</th>\n",
       "      <td>217546</td>\n",
       "      <td>None</td>\n",
       "      <td>Conger wilsoni</td>\n",
       "      <td>Conger wilsoni</td>\n",
       "      <td>True</td>\n",
       "      <td>Species</td>\n",
       "    </tr>\n",
       "    <tr>\n",
       "      <th>8</th>\n",
       "      <td>1517375</td>\n",
       "      <td>None</td>\n",
       "      <td>Chondrichthyes</td>\n",
       "      <td>Chondrichthyes</td>\n",
       "      <td>True</td>\n",
       "      <td>Parvphylum</td>\n",
       "    </tr>\n",
       "  </tbody>\n",
       "</table>\n",
       "</div>"
      ],
      "text/plain": [
       "   aphiaID commonName           scientificName        oldScientificName  \\\n",
       "5   159645       None       Oligoplites saurus       Oligoplites saurus   \n",
       "6  1039991       None  Pseudocaranx georgianus  Pseudocaranx georgianus   \n",
       "7   217546       None           Conger wilsoni           Conger wilsoni   \n",
       "8  1517375       None           Chondrichthyes           Chondrichthyes   \n",
       "\n",
       "   scientificNamesMatch   taxonRank  \n",
       "5                  True     Species  \n",
       "6                  True     Species  \n",
       "7                  True     Species  \n",
       "8                  True  Parvphylum  "
      ]
     },
     "execution_count": 19,
     "metadata": {},
     "output_type": "execute_result"
    }
   ],
   "source": [
    "missing_common_names = clean_scientific_names_df[clean_scientific_names_df[\"commonName\"].isna()]\n",
    "print(\"Missing common names n: \",len(missing_common_names))\n",
    "print(list(missing_common_names[\"aphiaID\"]))\n",
    "to_add = list(missing_common_names[\"aphiaID\"])\n",
    "ids_to_check.update(to_add)\n",
    "missing_common_names"
   ]
  },
  {
   "cell_type": "markdown",
   "id": "f7bfadce",
   "metadata": {},
   "source": [
    "# Aphia ID to find the rows in the exported csv that need to be checked"
   ]
  },
  {
   "cell_type": "code",
   "execution_count": 20,
   "id": "8ec22e10",
   "metadata": {},
   "outputs": [
    {
     "data": {
      "text/plain": [
       "{-1, 151738, 159645, 217546, 277101, 1039991, 1517375}"
      ]
     },
     "execution_count": 20,
     "metadata": {},
     "output_type": "execute_result"
    }
   ],
   "source": [
    "len(ids_to_check)\n",
    "ids_to_check"
   ]
  },
  {
   "cell_type": "markdown",
   "id": "5ef7b467",
   "metadata": {},
   "source": [
    "Non species taxon: "
   ]
  },
  {
   "cell_type": "code",
   "execution_count": 23,
   "id": "d1722ebd-5084-4eca-8a43-cb4af9cbecde",
   "metadata": {},
   "outputs": [
    {
     "name": "stdout",
     "output_type": "stream",
     "text": [
      "Non species rank:  4\n",
      "[-1, 125598, 151738, 1517375]\n"
     ]
    },
    {
     "data": {
      "text/html": [
       "<div>\n",
       "<style scoped>\n",
       "    .dataframe tbody tr th:only-of-type {\n",
       "        vertical-align: middle;\n",
       "    }\n",
       "\n",
       "    .dataframe tbody tr th {\n",
       "        vertical-align: top;\n",
       "    }\n",
       "\n",
       "    .dataframe thead th {\n",
       "        text-align: right;\n",
       "    }\n",
       "</style>\n",
       "<table border=\"1\" class=\"dataframe\">\n",
       "  <thead>\n",
       "    <tr style=\"text-align: right;\">\n",
       "      <th></th>\n",
       "      <th>aphiaID</th>\n",
       "      <th>commonName</th>\n",
       "      <th>scientificName</th>\n",
       "      <th>oldScientificName</th>\n",
       "      <th>scientificNamesMatch</th>\n",
       "      <th>taxonRank</th>\n",
       "    </tr>\n",
       "  </thead>\n",
       "  <tbody>\n",
       "    <tr>\n",
       "      <th>1</th>\n",
       "      <td>-1</td>\n",
       "      <td>Test</td>\n",
       "      <td>None</td>\n",
       "      <td>Kathetostoma giganteu</td>\n",
       "      <td>False</td>\n",
       "      <td>None</td>\n",
       "    </tr>\n",
       "    <tr>\n",
       "      <th>3</th>\n",
       "      <td>125598</td>\n",
       "      <td>Test</td>\n",
       "      <td>Triglidae sp</td>\n",
       "      <td>Triglidae</td>\n",
       "      <td>True</td>\n",
       "      <td>Family</td>\n",
       "    </tr>\n",
       "    <tr>\n",
       "      <th>4</th>\n",
       "      <td>151738</td>\n",
       "      <td>Test</td>\n",
       "      <td>Blenniiformes sp</td>\n",
       "      <td>Blennioidei</td>\n",
       "      <td>False</td>\n",
       "      <td>Suborder</td>\n",
       "    </tr>\n",
       "    <tr>\n",
       "      <th>8</th>\n",
       "      <td>1517375</td>\n",
       "      <td>None</td>\n",
       "      <td>Chondrichthyes</td>\n",
       "      <td>Chondrichthyes</td>\n",
       "      <td>True</td>\n",
       "      <td>Parvphylum</td>\n",
       "    </tr>\n",
       "  </tbody>\n",
       "</table>\n",
       "</div>"
      ],
      "text/plain": [
       "   aphiaID commonName    scientificName      oldScientificName  \\\n",
       "1       -1       Test              None  Kathetostoma giganteu   \n",
       "3   125598       Test      Triglidae sp              Triglidae   \n",
       "4   151738       Test  Blenniiformes sp            Blennioidei   \n",
       "8  1517375       None    Chondrichthyes         Chondrichthyes   \n",
       "\n",
       "   scientificNamesMatch   taxonRank  \n",
       "1                 False        None  \n",
       "3                  True      Family  \n",
       "4                 False    Suborder  \n",
       "8                  True  Parvphylum  "
      ]
     },
     "execution_count": 23,
     "metadata": {},
     "output_type": "execute_result"
    }
   ],
   "source": [
    "non_species_taxon = clean_scientific_names_df[clean_scientific_names_df[\"taxonRank\"] != \"Species\"]\n",
    "print(\"Non species rank: \",len(non_species_taxon))\n",
    "print(list(non_species_taxon[\"aphiaID\"]))\n",
    "non_species_taxon"
   ]
  },
  {
   "cell_type": "markdown",
   "id": "0a0c6182",
   "metadata": {},
   "source": [
    "# Export to csv"
   ]
  },
  {
   "cell_type": "code",
   "execution_count": 20,
   "id": "8489449e",
   "metadata": {},
   "outputs": [],
   "source": [
    "columns_to_export = [\"aphiaID\",\"commonName\",\"scientificName\", \"taxonRank\"]\n",
    "\n",
    "clean_scientific_names_df.to_csv(\"clean_scientific_names.csv\", columns=columns_to_export, index=False)\n"
   ]
  },
  {
   "cell_type": "markdown",
   "id": "b273d58c-f4ed-4829-8c82-d560fb1a07ac",
   "metadata": {},
   "source": [
    "## Example API return"
   ]
  },
  {
   "cell_type": "code",
   "execution_count": null,
   "id": "7e677441-dfd1-47a4-b7ba-2f91a9d1c4f8",
   "metadata": {},
   "outputs": [],
   "source": [
    "[\n",
    "  {\n",
    "    \"AphiaID\": 277101,\n",
    "    \"url\": \"https://www.marinespecies.org/aphia.php?p=taxdetails&id=277101\",\n",
    "    \"scientificname\": \"Cephaloscyllium isabellum\",\n",
    "    \"authority\": \"(Bonnaterre, 1788)\",\n",
    "    \"status\": \"unaccepted\",\n",
    "    \"unacceptreason\": null,\n",
    "    \"taxonRankID\": 220,\n",
    "    \"rank\": \"Species\",\n",
    "    \"valid_AphiaID\": 298238,\n",
    "    \"valid_name\": \"Cephaloscyllium isabella\",\n",
    "    \"valid_authority\": \"(Bonnaterre, 1788)\",\n",
    "    \"parentNameUsageID\": 204168,\n",
    "    \"kingdom\": \"Animalia\",\n",
    "    \"phylum\": \"Chordata\",\n",
    "    \"class\": \"Elasmobranchii\",\n",
    "    \"order\": \"Carcharhiniformes\",\n",
    "    \"family\": \"Scyliorhinidae\",\n",
    "    \"genus\": \"Cephaloscyllium\",\n",
    "    \"citation\": \"Froese, R. and D. Pauly. Editors. (2024). FishBase. Cephaloscyllium isabellum (Bonnaterre, 1788). Accessed through: World Register of Marine Species at: https://www.marinespecies.org/aphia.php?p=taxdetails&id=277101 on 2024-11-29\",\n",
    "    \"lsid\": \"urn:lsid:marinespecies.org:taxname:277101\",\n",
    "    \"isMarine\": 1,\n",
    "    \"isBrackish\": 0,\n",
    "    \"isFreshwater\": 0,\n",
    "    \"isTerrestrial\": 0,\n",
    "    \"isExtinct\": null,\n",
    "    \"match_type\": \"exact\",\n",
    "    \"modified\": \"2023-01-11T08:59:53.383Z\"\n",
    "  }"
   ]
  }
 ],
 "metadata": {
  "kernelspec": {
   "display_name": "spyfish",
   "language": "python",
   "name": "python3"
  },
  "language_info": {
   "codemirror_mode": {
    "name": "ipython",
    "version": 3
   },
   "file_extension": ".py",
   "mimetype": "text/x-python",
   "name": "python",
   "nbconvert_exporter": "python",
   "pygments_lexer": "ipython3",
   "version": "3.12.9"
  },
  "toc": {
   "base_numbering": 1,
   "nav_menu": {},
   "number_sections": true,
   "sideBar": true,
   "skip_h1_title": false,
   "title_cell": "Table of Contents",
   "title_sidebar": "Contents",
   "toc_cell": true,
   "toc_position": {},
   "toc_section_display": true,
   "toc_window_display": true
  }
 },
 "nbformat": 4,
 "nbformat_minor": 5
}
