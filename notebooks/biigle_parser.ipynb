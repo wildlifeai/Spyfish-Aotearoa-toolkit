{
 "cells": [
  {
   "cell_type": "markdown",
   "id": "a28574ac",
   "metadata": {},
   "source": [
    "# Biigle parser for annotators\n",
    "\n",
    "This notebook is used to parse the annotations from the Biigle reports.\n",
    "\n",
    "It allows you to export the reports, find MaxN, calculate sizes...\n",
    "\n",
    "The notebook walks you through the process. Fill in the values in the next two cells, and run the remaining cells.\n",
    "\n",
    "\n",
    "If there are any issues, or if it breaks please write an email to Kalindi, or open an issue on: \n",
    "https://github.com/wildlifeai/Spyfish-Aotearoa-toolkit/issues\n"
   ]
  },
  {
   "cell_type": "code",
   "execution_count": null,
   "id": "c552146d",
   "metadata": {},
   "outputs": [],
   "source": [
    "# The ID of the video volume you want to export annotations from.\n",
    "# You can find it on the url on biigle when you are on the page with all the clips:\n",
    "# For example: https://biigle.de/volumes/25173, 25173 is the volume id.\n",
    "# VOLUME_ID = \"25173\" # no sizes (yet.)\n",
    "VOLUME_ID = \"25516\" # has sizes"
   ]
  },
  {
   "cell_type": "code",
   "execution_count": null,
   "id": "7256f979",
   "metadata": {},
   "outputs": [],
   "source": [
    "\n",
    "# If you have the biigle credentials set up as env variables, you can leave them as None.\n",
    "\n",
    "# Your Biigle account\n",
    "BIIGLE_API_EMAIL = None\n",
    "# BIIGLE_API_EMAIL=\"kiwia@wildlife.ai\"\n",
    "\n",
    "# A token is a special password like number used for the Biigle API. \n",
    "# Find yours here: https://biigle.de/settings/tokens\n",
    "# Keep this secret.\n",
    "BIIGLE_API_TOKEN = None\n",
    "# BIIGLE_API_TOKEN = \"Mag1CN0\"\n",
    "\n"
   ]
  },
  {
   "cell_type": "code",
   "execution_count": null,
   "id": "172be9c9",
   "metadata": {},
   "outputs": [],
   "source": [
    "# Loading and installing the necessary libraries\n",
    "try:\n",
    "    from sftk.utils import ping\n",
    "except ImportError:\n",
    "    print(\"Downloading the Spyfish Aotearoa toolkit...\")\n",
    "    !pip install --upgrade --no-deps -q git+https://github.com/wildlifeai/Spyfish-Aotearoa-toolkit.git\n",
    "\n",
    "\n",
    "\n",
    "from sftk.biigle_parser import BiigleParser"
   ]
  },
  {
   "cell_type": "code",
   "execution_count": null,
   "id": "5e58daef",
   "metadata": {},
   "outputs": [],
   "source": [
    "\n",
    "biigle_parser = BiigleParser(email=BIIGLE_API_EMAIL, token=BIIGLE_API_TOKEN)"
   ]
  },
  {
   "cell_type": "code",
   "execution_count": null,
   "id": "9d3b5a92",
   "metadata": {},
   "outputs": [],
   "source": [
    "processed_annotations = biigle_parser.process_video_annotations(VOLUME_ID)\n",
    "# Max counts every 30 seconds\n",
    "max_n_30s_df = processed_annotations[\"max_n_30s_df\"]\n",
    "# Max count of whole video (used to determine where in the videos to annotate for size)\n",
    "max_n_df = processed_annotations[\"max_n_df\"]\n",
    "# Potentially empty, if it was the video was not annotated for size.\n",
    "sizes_df = processed_annotations[\"sizes_df\"]"
   ]
  },
  {
   "cell_type": "markdown",
   "id": "413d2b5f",
   "metadata": {},
   "source": [
    "## Review the parsed dataframes"
   ]
  },
  {
   "cell_type": "code",
   "execution_count": null,
   "id": "d9907ed7",
   "metadata": {},
   "outputs": [],
   "source": [
    "max_n_30s_df.head()"
   ]
  },
  {
   "cell_type": "code",
   "execution_count": null,
   "id": "84c5a352",
   "metadata": {},
   "outputs": [],
   "source": [
    "max_n_df.head()"
   ]
  },
  {
   "cell_type": "code",
   "execution_count": null,
   "id": "20c35340",
   "metadata": {},
   "outputs": [],
   "source": [
    "\n",
    "sizes_df.head()"
   ]
  },
  {
   "cell_type": "code",
   "execution_count": null,
   "id": "0d0015c1",
   "metadata": {},
   "outputs": [],
   "source": [
    "# Export the processed annotations into CVS files\n",
    "\n",
    "max_n_30s_df.to_csv(f\"{VOLUME_ID}_max_n_30s_df.csv\", index=False)\n",
    "max_n_df.to_csv(f\"{VOLUME_ID}_max_n_df.csv\", index=False)\n",
    "sizes_df.to_csv(f\"{VOLUME_ID}_sizes_df.csv\", index=False)"
   ]
  },
  {
   "cell_type": "code",
   "execution_count": null,
   "id": "4ff6148f",
   "metadata": {},
   "outputs": [],
   "source": [
    "# Export for general annotations file\n",
    "# Not needed here, just added as a fyi\n",
    "final_annotations_output_df = biigle_parser.format_count_annotations_output(max_n_df)\n",
    "final_annotations_output_df.columns\n"
   ]
  }
 ],
 "metadata": {
  "kernelspec": {
   "display_name": "spyfish",
   "language": "python",
   "name": "python3"
  },
  "language_info": {
   "codemirror_mode": {
    "name": "ipython",
    "version": 3
   },
   "file_extension": ".py",
   "mimetype": "text/x-python",
   "name": "python",
   "nbconvert_exporter": "python",
   "pygments_lexer": "ipython3",
   "version": "3.12.9"
  }
 },
 "nbformat": 4,
 "nbformat_minor": 5
}
