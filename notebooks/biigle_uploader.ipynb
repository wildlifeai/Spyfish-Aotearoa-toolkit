{
 "cells": [
  {
   "cell_type": "code",
   "execution_count": null,
   "id": "3aaef683",
   "metadata": {},
   "outputs": [],
   "source": [
    "# Values that might change:\n",
    "\n",
    "MOVIE_ID =  \"KOK_20240219_BUV_KOK_020_01.mp4\"\n",
    "EXPECTED_CLIP_AMOUNT = 60\n",
    "\n",
    "\n",
    "survey = MOVIE_ID[:16]\n",
    "deployment = MOVIE_ID[:-4]\n",
    "\n",
    "clips_folder = f\"/nesi/project/wildlife03546/code/kso_upload_copy/notebooks/classify/{deployment}.mp4_zooniverseclips\"\n",
    "s3_biigle_folder = f\"process_files/clips/biigle/{survey}/{deployment}/\"\n"
   ]
  },
  {
   "cell_type": "code",
   "execution_count": null,
   "id": "9b591a26",
   "metadata": {},
   "outputs": [],
   "source": [
    "\n",
    "%load_ext autoreload\n",
    "%autoreload 2\n",
    "import re\n",
    "\n",
    "from pathlib import Path\n",
    "\n",
    "\n",
    "from sftk.common import S3_BUCKET, BIIGLE_API_EMAIL, BIIGLE_API_TOKEN, BIIGLE_DISK_ID, BIIGLE_PROJECT_ID\n",
    "from sftk.s3_handler import S3Handler\n",
    "from sftk.external.biigle_api import Api\n",
    "\n"
   ]
  },
  {
   "cell_type": "code",
   "execution_count": null,
   "id": "fc0951d9",
   "metadata": {},
   "outputs": [],
   "source": [
    "s3_handler = S3Handler()"
   ]
  },
  {
   "cell_type": "code",
   "execution_count": null,
   "id": "8094e9fd",
   "metadata": {},
   "outputs": [],
   "source": [
    "def find_files_with_extension(folder_path, extension):\n",
    "    return [str(f) for f in Path(folder_path).glob(f\"*.{extension}\")]"
   ]
  },
  {
   "cell_type": "code",
   "execution_count": null,
   "id": "3f8005b5",
   "metadata": {},
   "outputs": [],
   "source": [
    "# Get clips \n",
    "clips_files = find_files_with_extension(clips_folder, \"mp4\")\n",
    "# Sort by the number after '_clip_'\n",
    "sorted_paths = sorted(clips_files, key=lambda x: int(re.search(r'_clip_(\\d+)_', x).group(1)))\n"
   ]
  },
  {
   "cell_type": "code",
   "execution_count": null,
   "id": "5b35d1f9",
   "metadata": {},
   "outputs": [],
   "source": [
    "\n",
    "\n",
    "clip_names = []\n",
    "for file in sorted_paths:\n",
    "    file_name = Path(file).name  \n",
    "    s3_path = Path(s3_biigle_folder) / file_name\n",
    "    clip_names.append(file_name)\n",
    "\n",
    "    s3_handler.upload_file_to_s3(file, key=str(s3_path), bucket=S3_BUCKET, content_type=\"video/mp4\")"
   ]
  },
  {
   "cell_type": "code",
   "execution_count": null,
   "id": "31a1a903",
   "metadata": {},
   "outputs": [],
   "source": [
    "mp4_files = s3_handler.get_file_paths_set_from_s3(bucket=S3_BUCKET, prefix = s3_biigle_folder, suffixes= (\".mp4\",), file_names_only=True)\n"
   ]
  },
  {
   "cell_type": "code",
   "execution_count": null,
   "id": "1651a9d0",
   "metadata": {},
   "outputs": [],
   "source": [
    "# check if local files and files in s3 match, and there are 60 of them\n",
    "assert set(clip_names) == mp4_files\n",
    "assert len(mp4_files) == EXPECTED_CLIP_AMOUNT"
   ]
  },
  {
   "cell_type": "code",
   "execution_count": null,
   "id": "615bca6e",
   "metadata": {},
   "outputs": [],
   "source": [
    "api = Api(BIIGLE_API_EMAIL, BIIGLE_API_TOKEN)"
   ]
  },
  {
   "cell_type": "code",
   "execution_count": null,
   "id": "734c8c10",
   "metadata": {},
   "outputs": [],
   "source": [
    "# Create pending volume\n",
    "pending_volume_response = api.post(f\"projects/{BIIGLE_PROJECT_ID}/pending-volumes\", json={\"media_type\":\"video\"})\n",
    "pending_volume_info = pending_volume_response.json()\n",
    "\n",
    "# If the above fails: \n",
    "# One can have only one pending volume at a time. \n",
    "# You can find your pending volume id in gui by trying to make a new volume, (which will fail and take you to the existing pending volume) and the id is in the url \n"
   ]
  },
  {
   "cell_type": "code",
   "execution_count": null,
   "id": "ed5bbf6f",
   "metadata": {},
   "outputs": [],
   "source": [
    "# pending_volume_id = 1234 # add your own if fetching pending_volume_info above fails\n",
    "pending_volume_id = pending_volume_info[\"id\"]"
   ]
  },
  {
   "cell_type": "code",
   "execution_count": null,
   "id": "7d7ffa20",
   "metadata": {},
   "outputs": [],
   "source": [
    "\n",
    "s3_url = f\"disk-{BIIGLE_DISK_ID}://{s3_biigle_folder}\"\n",
    "\n",
    "fill_pv = api.put(f\"pending-volumes/{pending_volume_id}\", \n",
    "                  json={\"name\": deployment , \n",
    "                        \"url\": s3_url, \n",
    "                        \"files\": clip_names})\n",
    "fill_pv.json()"
   ]
  }
 ],
 "metadata": {
  "kernelspec": {
   "display_name": "spyfish",
   "language": "python",
   "name": "python3"
  },
  "language_info": {
   "codemirror_mode": {
    "name": "ipython",
    "version": 3
   },
   "file_extension": ".py",
   "mimetype": "text/x-python",
   "name": "python",
   "nbconvert_exporter": "python",
   "pygments_lexer": "ipython3",
   "version": "3.12.9"
  }
 },
 "nbformat": 4,
 "nbformat_minor": 5
}
