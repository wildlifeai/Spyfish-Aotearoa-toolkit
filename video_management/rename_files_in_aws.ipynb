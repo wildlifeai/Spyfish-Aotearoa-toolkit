{
  "cells": [
    {
      "cell_type": "markdown",
      "metadata": {
        "id": "Kvs6P42y4QT0"
      },
      "source": [
        "This notebook contains the scripts to rename the filenames of videos stored in AWS bucket."
      ]
    },
    {
      "cell_type": "code",
      "execution_count": null,
      "metadata": {},
      "outputs": [],
      "source": [
        "# TODO refactor, merge and extract utils etc, and tests"
      ]
    },
    {
      "cell_type": "code",
      "execution_count": null,
      "metadata": {
        "colab": {
          "base_uri": "https://localhost:8080/"
        },
        "id": "r2E5PR5iaGfC",
        "outputId": "27c17cda-04d5-47bf-9853-a51c7046d2cd"
      },
      "outputs": [],
      "source": [
        "# @title <font size=\"5\">↓ ឵឵<i>Install and load requirements</font> { vertical-output: true }\n",
        "\n",
        "import getpass\n",
        "import boto3\n",
        "import pandas as pd\n",
        "from IPython.display import display\n",
        "\n",
        "from tqdm.notebook import tqdm\n"
      ]
    },
    {
      "cell_type": "code",
      "execution_count": null,
      "metadata": {
        "colab": {
          "base_uri": "https://localhost:8080/",
          "height": 71
        },
        "id": "38NaRjPJawlI",
        "outputId": "3ea1f150-724e-4ad3-f3ce-62563d7e826b"
      },
      "outputs": [],
      "source": [
        "from google.colab import files\n",
        "uploaded = files.upload()"
      ]
    },
    {
      "cell_type": "code",
      "execution_count": null,
      "metadata": {
        "id": "49-NkDgbcSB7"
      },
      "outputs": [],
      "source": [
        "# Load the uploaded file into a Pandas DataFrame\n",
        "df = pd.read_csv(\"rename_files_Jul_02_2025.csv\")"
      ]
    },
    {
      "cell_type": "code",
      "execution_count": null,
      "metadata": {
        "id": "pJUFTrOeeeUN"
      },
      "outputs": [],
      "source": [
        "def aws_credentials():\n",
        "    # Save your access key for the s3 bucket.\n",
        "    aws_access_key_id = getpass.getpass(\"Enter the key id for the aws server\")\n",
        "    aws_secret_access_key = getpass.getpass(\n",
        "        \"Enter the secret access key for the aws server\"\n",
        "    )\n",
        "\n",
        "    return aws_access_key_id, aws_secret_access_key\n",
        "\n",
        "\n",
        "def connect_s3(aws_access_key_id: str, aws_secret_access_key: str):\n",
        "    # Connect to the s3 bucket\n",
        "    client = boto3.client(\n",
        "        \"s3\",\n",
        "        aws_access_key_id=aws_access_key_id,\n",
        "        aws_secret_access_key=aws_secret_access_key,\n",
        "    )\n",
        "    return client\n",
        "\n",
        "\n",
        "def get_aws_client():\n",
        "    # Set aws account credentials\n",
        "    aws_access_key_id, aws_secret_access_key = aws_credentials()\n",
        "\n",
        "    # Connect to S3\n",
        "    client = connect_s3(aws_access_key_id, aws_secret_access_key)\n",
        "\n",
        "    return client\n",
        "\n",
        "def get_matching_s3_objects(\n",
        "    client: boto3.client, bucket: str, prefix: str = \"\", suffix: str = \"\"\n",
        "):\n",
        "    \"\"\"\n",
        "    ## Code modified from alexwlchan (https://alexwlchan.net/2019/07/listing-s3-keys/)\n",
        "    Generate objects in an S3 bucket.\n",
        "\n",
        "    :param client: S3 client.\n",
        "    :param bucket: Name of the S3 bucket.\n",
        "    :param prefix: Only fetch objects whose key starts with\n",
        "        this prefix (optional).\n",
        "    :param suffix: Only fetch objects whose keys end with\n",
        "        this suffix (optional).\n",
        "    \"\"\"\n",
        "\n",
        "    paginator = client.get_paginator(\"list_objects_v2\")\n",
        "\n",
        "    kwargs = {\"Bucket\": bucket}\n",
        "\n",
        "    # We can pass the prefix directly to the S3 API.  If the user has passed\n",
        "    # a tuple or list of prefixes, we go through them one by one.\n",
        "    if isinstance(prefix, str):\n",
        "        prefixes = (prefix,)\n",
        "    else:\n",
        "        prefixes = prefix\n",
        "\n",
        "    for key_prefix in prefixes:\n",
        "        kwargs[\"Prefix\"] = key_prefix\n",
        "\n",
        "        for page in paginator.paginate(**kwargs):\n",
        "            try:\n",
        "                contents = page[\"Contents\"]\n",
        "            except KeyError:\n",
        "                break\n",
        "\n",
        "            for obj in contents:\n",
        "                key = obj[\"Key\"]\n",
        "                if key.endswith(suffix):\n",
        "                    yield obj\n",
        "\n",
        "\n",
        "def get_matching_s3_keys(\n",
        "    client: boto3.client, bucket: str, prefix: str = \"\", suffix: str = \"\"\n",
        "):\n",
        "    \"\"\"\n",
        "    ## Code from alexwlchan (https://alexwlchan.net/2019/07/listing-s3-keys/)\n",
        "    Generate the keys in an S3 bucket.\n",
        "\n",
        "    :param client: S3 client.\n",
        "    :param bucket: Name of the S3 bucket.\n",
        "    :param prefix: Only fetch keys that start with this prefix (optional).\n",
        "    :param suffix: Only fetch keys that end with this suffix (optional).\n",
        "    return a list of the matching objects\n",
        "    \"\"\"\n",
        "\n",
        "    # Select the relevant bucket\n",
        "    s3_keys = [\n",
        "        obj[\"Key\"] for obj in get_matching_s3_objects(client, bucket, prefix, suffix)\n",
        "    ]\n",
        "\n",
        "    return s3_keys\n",
        "\n",
        "\n",
        "def get_movie_extensions():\n",
        "    # Specify the formats of the movies to select\n",
        "    return tuple([\"wmv\", \"mpg\", \"mov\", \"avi\", \"mp4\", \"MOV\", \"MP4\"])\n",
        "\n",
        "def get_movies_df(client: boto3.client, bucket: str, prefix: str = \"\") -> pd.DataFrame:\n",
        "    \"\"\"\n",
        "    Get a DataFrame containing the keys of all movie files in the specified S3 bucket.\n",
        "\n",
        "    :param client: S3 client.\n",
        "    :param bucket: Name of the S3 bucket.\n",
        "    :param prefix: Only fetch keys that start with this prefix (optional).\n",
        "    :return: DataFrame with a single column, 'Key', containing paths to movie files.\n",
        "    \"\"\"\n",
        "    # Get the movie file extensions\n",
        "    movie_extensions = get_movie_extensions()\n",
        "\n",
        "    # Retrieve keys that match movie file extensions\n",
        "    movie_keys = get_matching_s3_keys(client, bucket, prefix, suffix=movie_extensions)\n",
        "\n",
        "    # Convert the list of movie keys to a DataFrame\n",
        "    movies_df = pd.DataFrame(movie_keys, columns=[\"Key\"])\n",
        "\n",
        "    return movies_df"
      ]
    },
    {
      "cell_type": "code",
      "execution_count": null,
      "metadata": {
        "colab": {
          "base_uri": "https://localhost:8080/"
        },
        "id": "9zG485hliKXR",
        "outputId": "390fba8c-b3e9-497b-fdda-b74d0ed3a927"
      },
      "outputs": [],
      "source": [
        "# Connect to s3 bucket\n",
        "client = get_aws_client()"
      ]
    },
    {
      "cell_type": "code",
      "execution_count": null,
      "metadata": {
        "id": "6MpSID5e9UTE"
      },
      "outputs": [],
      "source": [
        "# List all movies available\n",
        "movies_df = get_movies_df(client, \"marine-buv\", \"\")"
      ]
    },
    {
      "cell_type": "code",
      "execution_count": null,
      "metadata": {
        "id": "CIRSXuNL9bcy"
      },
      "outputs": [],
      "source": [
        "movies_df.to_csv(\"movies_df.csv\")"
      ]
    },
    {
      "cell_type": "code",
      "execution_count": null,
      "metadata": {
        "id": "4j2UwWxpEaKI"
      },
      "outputs": [],
      "source": [
        "from IPython.display import HTML\n",
        "# Function to preview underwater movies\n",
        "def preview_movie(\n",
        "    client,\n",
        "    Key,\n",
        "):\n",
        "    \"\"\"\n",
        "    It takes a movie filename and its associated metadata and returns a HTML object that can be displayed in the notebook\n",
        "\n",
        "    :param movie_path: the filename of the movie you want to preview\n",
        "    :param movie_metadata: the metadata of the movie you want to preview\n",
        "    :return: HTML object\n",
        "    \"\"\"\n",
        "\n",
        "    movie_path = client.generate_presigned_url(\n",
        "        \"get_object\",\n",
        "        Params={\"Bucket\": \"marine-buv\", \"Key\": Key},\n",
        "        ExpiresIn=26400,\n",
        "    )\n",
        "\n",
        "    # Adjust the width of the video and metadata sections based on your preference\n",
        "    video_width = \"60%\"  # Adjust as needed\n",
        "    metadata_width = \"40%\"  # Adjust as needed\n",
        "\n",
        "    html_code = f\"\"\"<html>\n",
        "            <div style=\"display: flex; align-items: center; width: 100%;\">\n",
        "                <div style=\"width: {video_width}; padding-right: 10px;\">\n",
        "                    <video width=\"100%\" controls>\n",
        "                        <source src={movie_path}>\n",
        "                    </video>\n",
        "                </div>\n",
        "            </div>\n",
        "            </html>\"\"\"\n",
        "\n",
        "    return HTML(html_code)\n"
      ]
    },
    {
      "cell_type": "code",
      "execution_count": null,
      "metadata": {
        "colab": {
          "base_uri": "https://localhost:8080/",
          "height": 526
        },
        "id": "ncqxtMgbEQdi",
        "outputId": "6ea5daac-4c21-4fcb-e697-8165ea700e54"
      },
      "outputs": [],
      "source": [
        "preview_movie(client, \"TON_20241125_BUV/TON_056/TON_056.mp4\")"
      ]
    },
    {
      "cell_type": "code",
      "execution_count": null,
      "metadata": {
        "colab": {
          "base_uri": "https://localhost:8080/",
          "height": 423
        },
        "id": "YQVj5MiUOxql",
        "outputId": "a44829ab-abd8-472d-b445-2977c489f20b"
      },
      "outputs": [],
      "source": [
        "# Get a dataframe of all movies from AWS\n",
        "movies_s3_pd = get_matching_s3_keys(\n",
        "    client = client,\n",
        "    bucket = \"marine-buv\",\n",
        "    prefix=\"\",\n",
        "    suffix=get_movie_extensions()\n",
        ")\n",
        "\n",
        "# Calling DataFrame constructor on list\n",
        "movies_s3_pd = pd.DataFrame(movies_s3_pd, columns =['Key'])\n",
        "\n",
        "# movies_s3_pd\n",
        "\n",
        "# Select only relevant rows\n",
        "movies_s3_pd = movies_s3_pd[movies_s3_pd['Key'].str.contains(\"HMR\")]\n",
        "\n",
        "# Replace all instances of \"HMR\" with \"HOR\" (case-sensitive)\n",
        "movies_s3_pd[\"NEW\"] = movies_s3_pd['Key'].str.replace('HMR', 'HOR', regex=True)\n",
        "\n",
        "# Rename the original Key as OLD to avoid confusion\n",
        "movies_s3_pd = movies_s3_pd.rename(columns={'Key': 'OLD'})\n",
        "movies_s3_pd\n",
        "# Specify the key of the movies (path in S3 of the object)\n",
        "# movies_s3_pd[\"filename\"] = movies_s3_pd.Key.str.split(\"/\").str[-1]"
      ]
    },
    {
      "cell_type": "code",
      "execution_count": null,
      "metadata": {
        "colab": {
          "base_uri": "https://localhost:8080/",
          "height": 701,
          "referenced_widgets": [
            "9b1c3f313dce420f8b8fa8766ea9d70d",
            "fc801057ddf6462ca2e5cd5506c041b9",
            "c10152055b67453695f72ae946e254e7",
            "370436e65dc244fd8aa712754a21d1ad",
            "91c8532807b747fcb36a5999436ab2c1",
            "635d4daee5994357b385b594a1e3fa1a",
            "a8715dec454544ae852ca6fe92b97d84",
            "e31f5547cb8a4c1c92012e7c6318cd43",
            "d5f75ba074dd41579db11818f3e6675b",
            "335f685a0c47401ab4d1331adf560623",
            "4f94161a97ce41e7bffcf3923f02c865"
          ]
        },
        "id": "P-WxphFscch1",
        "outputId": "e81d4275-53a3-4ae6-ed38-2202aa5d653e"
      },
      "outputs": [],
      "source": [
        "# copy and rename the ftiles\n",
        "for index, row in tqdm(df.iterrows(), total=df.shape[0]):\n",
        "\n",
        "  print(row)\n",
        "  copy_source = {'Bucket': \"marine-buv\", 'Key': row['OLD']}\n",
        "  client.copy(CopySource = copy_source, Bucket = \"marine-buv\", Key = row['NEW'])\n",
        "\n",
        "  client.delete_object(Bucket = \"marine-buv\", Key = row['OLD'])"
      ]
    },
    {
      "cell_type": "markdown",
      "metadata": {
        "id": "xy0fQv__r-xA"
      },
      "source": [
        "End"
      ]
    }
  ],
  "metadata": {
    "colab": {
      "provenance": []
    },
    "kernelspec": {
      "display_name": "Python 3",
      "language": "python",
      "name": "python3"
    },
    "language_info": {
      "codemirror_mode": {
        "name": "ipython",
        "version": 3
      },
      "file_extension": ".py",
      "mimetype": "text/x-python",
      "name": "python",
      "nbconvert_exporter": "python",
      "pygments_lexer": "ipython3",
      "version": "3.11.10"
    },
    "widgets": {
      "application/vnd.jupyter.widget-state+json": {
        "335f685a0c47401ab4d1331adf560623": {
          "model_module": "@jupyter-widgets/base",
          "model_module_version": "1.2.0",
          "model_name": "LayoutModel",
          "state": {
            "_model_module": "@jupyter-widgets/base",
            "_model_module_version": "1.2.0",
            "_model_name": "LayoutModel",
            "_view_count": null,
            "_view_module": "@jupyter-widgets/base",
            "_view_module_version": "1.2.0",
            "_view_name": "LayoutView",
            "align_content": null,
            "align_items": null,
            "align_self": null,
            "border": null,
            "bottom": null,
            "display": null,
            "flex": null,
            "flex_flow": null,
            "grid_area": null,
            "grid_auto_columns": null,
            "grid_auto_flow": null,
            "grid_auto_rows": null,
            "grid_column": null,
            "grid_gap": null,
            "grid_row": null,
            "grid_template_areas": null,
            "grid_template_columns": null,
            "grid_template_rows": null,
            "height": null,
            "justify_content": null,
            "justify_items": null,
            "left": null,
            "margin": null,
            "max_height": null,
            "max_width": null,
            "min_height": null,
            "min_width": null,
            "object_fit": null,
            "object_position": null,
            "order": null,
            "overflow": null,
            "overflow_x": null,
            "overflow_y": null,
            "padding": null,
            "right": null,
            "top": null,
            "visibility": null,
            "width": null
          }
        },
        "370436e65dc244fd8aa712754a21d1ad": {
          "model_module": "@jupyter-widgets/controls",
          "model_module_version": "1.5.0",
          "model_name": "HTMLModel",
          "state": {
            "_dom_classes": [],
            "_model_module": "@jupyter-widgets/controls",
            "_model_module_version": "1.5.0",
            "_model_name": "HTMLModel",
            "_view_count": null,
            "_view_module": "@jupyter-widgets/controls",
            "_view_module_version": "1.5.0",
            "_view_name": "HTMLView",
            "description": "",
            "description_tooltip": null,
            "layout": "IPY_MODEL_335f685a0c47401ab4d1331adf560623",
            "placeholder": "​",
            "style": "IPY_MODEL_4f94161a97ce41e7bffcf3923f02c865",
            "value": " 5/3126 [07:05&lt;28:41:20, 33.09s/it]"
          }
        },
        "4f94161a97ce41e7bffcf3923f02c865": {
          "model_module": "@jupyter-widgets/controls",
          "model_module_version": "1.5.0",
          "model_name": "DescriptionStyleModel",
          "state": {
            "_model_module": "@jupyter-widgets/controls",
            "_model_module_version": "1.5.0",
            "_model_name": "DescriptionStyleModel",
            "_view_count": null,
            "_view_module": "@jupyter-widgets/base",
            "_view_module_version": "1.2.0",
            "_view_name": "StyleView",
            "description_width": ""
          }
        },
        "635d4daee5994357b385b594a1e3fa1a": {
          "model_module": "@jupyter-widgets/base",
          "model_module_version": "1.2.0",
          "model_name": "LayoutModel",
          "state": {
            "_model_module": "@jupyter-widgets/base",
            "_model_module_version": "1.2.0",
            "_model_name": "LayoutModel",
            "_view_count": null,
            "_view_module": "@jupyter-widgets/base",
            "_view_module_version": "1.2.0",
            "_view_name": "LayoutView",
            "align_content": null,
            "align_items": null,
            "align_self": null,
            "border": null,
            "bottom": null,
            "display": null,
            "flex": null,
            "flex_flow": null,
            "grid_area": null,
            "grid_auto_columns": null,
            "grid_auto_flow": null,
            "grid_auto_rows": null,
            "grid_column": null,
            "grid_gap": null,
            "grid_row": null,
            "grid_template_areas": null,
            "grid_template_columns": null,
            "grid_template_rows": null,
            "height": null,
            "justify_content": null,
            "justify_items": null,
            "left": null,
            "margin": null,
            "max_height": null,
            "max_width": null,
            "min_height": null,
            "min_width": null,
            "object_fit": null,
            "object_position": null,
            "order": null,
            "overflow": null,
            "overflow_x": null,
            "overflow_y": null,
            "padding": null,
            "right": null,
            "top": null,
            "visibility": null,
            "width": null
          }
        },
        "91c8532807b747fcb36a5999436ab2c1": {
          "model_module": "@jupyter-widgets/base",
          "model_module_version": "1.2.0",
          "model_name": "LayoutModel",
          "state": {
            "_model_module": "@jupyter-widgets/base",
            "_model_module_version": "1.2.0",
            "_model_name": "LayoutModel",
            "_view_count": null,
            "_view_module": "@jupyter-widgets/base",
            "_view_module_version": "1.2.0",
            "_view_name": "LayoutView",
            "align_content": null,
            "align_items": null,
            "align_self": null,
            "border": null,
            "bottom": null,
            "display": null,
            "flex": null,
            "flex_flow": null,
            "grid_area": null,
            "grid_auto_columns": null,
            "grid_auto_flow": null,
            "grid_auto_rows": null,
            "grid_column": null,
            "grid_gap": null,
            "grid_row": null,
            "grid_template_areas": null,
            "grid_template_columns": null,
            "grid_template_rows": null,
            "height": null,
            "justify_content": null,
            "justify_items": null,
            "left": null,
            "margin": null,
            "max_height": null,
            "max_width": null,
            "min_height": null,
            "min_width": null,
            "object_fit": null,
            "object_position": null,
            "order": null,
            "overflow": null,
            "overflow_x": null,
            "overflow_y": null,
            "padding": null,
            "right": null,
            "top": null,
            "visibility": null,
            "width": null
          }
        },
        "9b1c3f313dce420f8b8fa8766ea9d70d": {
          "model_module": "@jupyter-widgets/controls",
          "model_module_version": "1.5.0",
          "model_name": "HBoxModel",
          "state": {
            "_dom_classes": [],
            "_model_module": "@jupyter-widgets/controls",
            "_model_module_version": "1.5.0",
            "_model_name": "HBoxModel",
            "_view_count": null,
            "_view_module": "@jupyter-widgets/controls",
            "_view_module_version": "1.5.0",
            "_view_name": "HBoxView",
            "box_style": "",
            "children": [
              "IPY_MODEL_fc801057ddf6462ca2e5cd5506c041b9",
              "IPY_MODEL_c10152055b67453695f72ae946e254e7",
              "IPY_MODEL_370436e65dc244fd8aa712754a21d1ad"
            ],
            "layout": "IPY_MODEL_91c8532807b747fcb36a5999436ab2c1"
          }
        },
        "a8715dec454544ae852ca6fe92b97d84": {
          "model_module": "@jupyter-widgets/controls",
          "model_module_version": "1.5.0",
          "model_name": "DescriptionStyleModel",
          "state": {
            "_model_module": "@jupyter-widgets/controls",
            "_model_module_version": "1.5.0",
            "_model_name": "DescriptionStyleModel",
            "_view_count": null,
            "_view_module": "@jupyter-widgets/base",
            "_view_module_version": "1.2.0",
            "_view_name": "StyleView",
            "description_width": ""
          }
        },
        "c10152055b67453695f72ae946e254e7": {
          "model_module": "@jupyter-widgets/controls",
          "model_module_version": "1.5.0",
          "model_name": "FloatProgressModel",
          "state": {
            "_dom_classes": [],
            "_model_module": "@jupyter-widgets/controls",
            "_model_module_version": "1.5.0",
            "_model_name": "FloatProgressModel",
            "_view_count": null,
            "_view_module": "@jupyter-widgets/controls",
            "_view_module_version": "1.5.0",
            "_view_name": "ProgressView",
            "bar_style": "danger",
            "description": "",
            "description_tooltip": null,
            "layout": "IPY_MODEL_e31f5547cb8a4c1c92012e7c6318cd43",
            "max": 3126,
            "min": 0,
            "orientation": "horizontal",
            "style": "IPY_MODEL_d5f75ba074dd41579db11818f3e6675b",
            "value": 5
          }
        },
        "d5f75ba074dd41579db11818f3e6675b": {
          "model_module": "@jupyter-widgets/controls",
          "model_module_version": "1.5.0",
          "model_name": "ProgressStyleModel",
          "state": {
            "_model_module": "@jupyter-widgets/controls",
            "_model_module_version": "1.5.0",
            "_model_name": "ProgressStyleModel",
            "_view_count": null,
            "_view_module": "@jupyter-widgets/base",
            "_view_module_version": "1.2.0",
            "_view_name": "StyleView",
            "bar_color": null,
            "description_width": ""
          }
        },
        "e31f5547cb8a4c1c92012e7c6318cd43": {
          "model_module": "@jupyter-widgets/base",
          "model_module_version": "1.2.0",
          "model_name": "LayoutModel",
          "state": {
            "_model_module": "@jupyter-widgets/base",
            "_model_module_version": "1.2.0",
            "_model_name": "LayoutModel",
            "_view_count": null,
            "_view_module": "@jupyter-widgets/base",
            "_view_module_version": "1.2.0",
            "_view_name": "LayoutView",
            "align_content": null,
            "align_items": null,
            "align_self": null,
            "border": null,
            "bottom": null,
            "display": null,
            "flex": null,
            "flex_flow": null,
            "grid_area": null,
            "grid_auto_columns": null,
            "grid_auto_flow": null,
            "grid_auto_rows": null,
            "grid_column": null,
            "grid_gap": null,
            "grid_row": null,
            "grid_template_areas": null,
            "grid_template_columns": null,
            "grid_template_rows": null,
            "height": null,
            "justify_content": null,
            "justify_items": null,
            "left": null,
            "margin": null,
            "max_height": null,
            "max_width": null,
            "min_height": null,
            "min_width": null,
            "object_fit": null,
            "object_position": null,
            "order": null,
            "overflow": null,
            "overflow_x": null,
            "overflow_y": null,
            "padding": null,
            "right": null,
            "top": null,
            "visibility": null,
            "width": null
          }
        },
        "fc801057ddf6462ca2e5cd5506c041b9": {
          "model_module": "@jupyter-widgets/controls",
          "model_module_version": "1.5.0",
          "model_name": "HTMLModel",
          "state": {
            "_dom_classes": [],
            "_model_module": "@jupyter-widgets/controls",
            "_model_module_version": "1.5.0",
            "_model_name": "HTMLModel",
            "_view_count": null,
            "_view_module": "@jupyter-widgets/controls",
            "_view_module_version": "1.5.0",
            "_view_name": "HTMLView",
            "description": "",
            "description_tooltip": null,
            "layout": "IPY_MODEL_635d4daee5994357b385b594a1e3fa1a",
            "placeholder": "​",
            "style": "IPY_MODEL_a8715dec454544ae852ca6fe92b97d84",
            "value": "  0%"
          }
        }
      }
    }
  },
  "nbformat": 4,
  "nbformat_minor": 0
}
