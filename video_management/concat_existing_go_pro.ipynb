{
 "cells": [
  {
   "cell_type": "markdown",
   "metadata": {},
   "source": [
    "# GoPro Video Concatenation\n",
    "\n",
    "This notebook provides tools to find, download, and concatenate GoPro video files stored in an AWS S3 bucket. It is designed to handle large files, network interruptions, and potential video corruption.\n",
    "\n",
    "**Key Features:**\n",
    "- Securely connect to AWS S3.\n",
    "- List and filter video files based on prefixes (e.g., by survey).\n",