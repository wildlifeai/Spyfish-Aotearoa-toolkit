{
 "cells": [
  {
   "cell_type": "markdown",
   "id": "a0cedab1",
   "metadata": {},
   "source": [
    "# GoPro Video Concatenation\n",
    "This notebook uses the `sftk` to find and concatenate multi-part GoPro video files stored in an S3 bucket. It identifies groups of videos belonging to the same `DropID` and combines them into a single MP4 file."
   ]
  },
  {
   "cell_type": "markdown",
   "id": "2308d749",
   "metadata": {},
   "source": [
    "# Requirements\n",
    "This section imports the necessary libraries for the script to run. These include libraries for handling file paths, interacting with AWS S3, processing videos, and managing concurrent operations."
   ]
  },
  {
   "cell_type": "code",
   "execution_count": null,
   "id": "8934b811",
   "metadata": {},
   "outputs": [],
   "source": [
    "from sftk.s3_handler import S3Handler\n",
    "from sftk.video_handler import VideoProcessor"
   ]
  },
  {
   "cell_type": "code",
   "execution_count": null,
   "id": "419b6f55",
   "metadata": {},
   "outputs": [],
   "source": [
    "# --- Configuration ---\n",
    "S3_PREFIX = \"media/\"  # e.g., \"media/SURVEY_ID\"\n",
    "GOPRO_PREFIX = \"GX\"  # Prefix for GoPro video files (e.g., 'GX', 'GH')\n",
    "DELETE_ORIGINALS = False  # Set to True to delete original video parts after concatenation\n",
    "TEST_MODE = True  # If True, concatenated files are not uploaded and originals are not deleted (TBC, process only the first drop)\n",
    "VERIFY_VIDEOS=False, # If True, verifies each single concatenated video matches the expected size and is identical (takes a while)\n",
    "PARALLEL_DROPS=True, # If False, process one drop at a time\n",
    "SEQUENTIAL_DOWNLOAD=True  # If False, download files one gopro at a time (most reliable)\n",
    "MAX_WORKERS=4 # Max number of parallel downloads for a single drop\n",
    "\n",
    "# 1. Initialize S3Handler and VideoProcessor\n",
    "s3_handler = S3Handler()\n",
    "processor = VideoProcessor(s3_handler, \n",
    "prefix=S3_PREFIX, \n",
    "gopro_prefix=GOPRO_PREFIX, \n",
    "delete_originals= DELETE_ORIGINALS, \n",
    "test_mode=TEST_MODE, \n",
    "max_workers=MAX_WORKERS, \n",
    "verify_videos=VERIFY_VIDEOS,  \n",
    "parallel_drops=PARALLEL_DROPS,  \n",
    "sequential_download=SEQUENTIAL_DOWNLOAD\n",
    ")\n",
    "\n",
    "\n",
    "# 2. Preview the movies that will be processed\n",
    "display(processor.filtered_df.head())"
   ]
  },
  {
   "cell_type": "code",
   "execution_count": null,
   "id": "f38c9a4b",
   "metadata": {},
   "outputs": [],
   "source": [
    "# Process go_pro_files from drops\n",
    "processor.process_gopro_videos()"
   ]
  },
  {
   "cell_type": "markdown",
   "id": "e83fe1e7",
   "metadata": {},
   "source": [
    "This section finds individual files that can be removed because a concatenated version already exists."
   ]
  },
  {
   "cell_type": "code",
   "execution_count": null,
   "id": "c376baf1",
   "metadata": {},
   "outputs": [],
   "source": [
    "# TBCFunctionality to be added to processor\n",
    "# Get individual files that can be removed (concatenated version exists)\n",
    "files_to_remove = processor.find_already_concatenated_movies_df(size_tolerance=0.01)\n",
    "\n",
    "# Preview the files that will be removed\n",
    "for _, row in files_to_remove.iterrows():\n",
    "    print(f\"Safe to remove: {row['Key']} ({row['Size']/1024/1024:.1f}MB)\")"
   ]
  },
  {
   "cell_type": "markdown",
   "id": "8fa3bc4c",
   "metadata": {},
   "source": [
    "This section removes the redundant files. The `3_handler.s3.delete_object` line is commented out for safety. Uncomment it to actually delete the files."
   ]
  },
  {
   "cell_type": "code",
   "execution_count": null,
   "id": "5ea3c5e0",
   "metadata": {},
   "outputs": [],
   "source": [
    "# Remove redundant files\n",
    "for _, row in files_to_remove.iterrows():\n",
    "    print(f\"Removing: {row['Key']} ({row['Size']/1024/1024:.1f}MB)\")\n",
    "    # s3_handler.s3.delete_object(Bucket=s3_handler.bucket, Key=row['Key'])"
   ]
  }
 ],
 "metadata": {
  "kernelspec": {
   "display_name": ".conda",
   "language": "python",
   "name": "python3"
  },
  "language_info": {
   "codemirror_mode": {
    "name": "ipython",
    "version": 3
   },
   "file_extension": ".py",
   "mimetype": "text/x-python",
   "name": "python",
   "nbconvert_exporter": "python",
   "pygments_lexer": "ipython3",
   "version": "3.11.11"
  }
 },
 "nbformat": 4,
 "nbformat_minor": 5
}
