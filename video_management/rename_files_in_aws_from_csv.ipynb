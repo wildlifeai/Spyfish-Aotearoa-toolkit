{
 "cells": [
  {
   "cell_type": "markdown",
   "metadata": {},
   "source": [
    "# Rename files in S3 given an CSV file with old and new file names\n",
    "\n",
    "This notebook is part of the Spyfish Aotearoa data cleaning effort.\n"
   ]
  },
  {
   "cell_type": "code",
   "execution_count": null,
   "metadata": {},
   "outputs": [],
   "source": [
    "# Last change: 2025.10.07"
   ]
  },
  {
   "cell_type": "code",
   "execution_count": null,
   "metadata": {},
   "outputs": [],
   "source": [
    "import pandas as pd\n",
    "import os\n",
    "\n",
    "from sftk.common import LOCAL_DATA_FOLDER_PATH, MOVIE_EXTENSIONS\n",
    "from sftk.s3_handler import S3Handler"
   ]
  },
  {
   "cell_type": "markdown",
   "metadata": {},
   "source": [
    "# Connect to S3"
   ]
  },
  {
   "cell_type": "code",
   "execution_count": null,
   "metadata": {},
   "outputs": [],
   "source": [
    "s3_handler = S3Handler()"
   ]
  },
  {
   "cell_type": "markdown",
   "metadata": {},
   "source": [
    "# Get S3 keys of movies of interest"
   ]
  },
  {
   "cell_type": "code",
   "execution_count": null,
   "metadata": {},
   "outputs": [],
   "source": [
    "foo = s3_handler.get_file_paths_set_from_s3(prefix=\"media/AHE\",suffixes=\".mp4\")"
   ]
  },
  {
   "cell_type": "code",
   "execution_count": null,
   "metadata": {},
   "outputs": [],
   "source": [
    "import csv\n",
    "\n",
    "output_csv_file = 'file_paths_per_row.csv'\n",
    "\n",
    "with open(output_csv_file, 'w', newline='', encoding='utf-8') as file:\n",
    "    writer = csv.writer(file)\n",
    "\n",
    "    # You might want a header to describe the data\n",
    "    writer.writerow([\"File Path\"])\n",
    "\n",
    "    # Iterate through the set and write each item as a new row\n",
    "    # Note: Sets are unordered, so the order of rows in the CSV won't be guaranteed.\n",
    "    # If order matters, convert to a list and sort first: for item in sorted(list(foo)):\n",
    "    for item in foo:\n",
    "        writer.writerow([item])\n",
    "\n",
    "print(f\"File paths saved to {output_csv_file}\")"
   ]
  },
  {
   "cell_type": "markdown",
   "metadata": {},
   "source": [
    "# Read the csv with old and new filenames (S3 keys)\n",
    "\n",
    "Change variables here to match your use case "
   ]
  },
  {
   "cell_type": "code",
   "execution_count": null,
   "metadata": {},
   "outputs": [],
   "source": [
    "# define the path of the csv\n",
    "file_path = \"rename_movies.csv\"\n",
    "\n",
    "# Define the names of the columns containing the old names and the new names\n",
    "new_name_column = \"NEW\"\n",
    "old_name_column = \"OLD\""
   ]
  },
  {
   "cell_type": "code",
   "execution_count": null,
   "metadata": {},
   "outputs": [],
   "source": [
    "# Read the CSV file containing  into a DataFrame\n",
    "rename_csv_df = pd.read_csv(file_path)\n",
    "\n",
    "# Extract the dict with keys with old name and values with the new name\n",
    "rename_pairs = dict(zip(rename_csv_df[old_name_column], rename_csv_df[new_name_column]))\n",
    "\n",
    "# review the dictionary\n",
    "print(rename_pairs)"
   ]
  },
  {
   "cell_type": "markdown",
   "metadata": {},
   "source": [
    "# Rename files in the bucket.\n",
    "\n",
    "Try_run does not rename, but runs the code to see what will be affected, change to False when ready."
   ]
  },
  {
   "cell_type": "code",
   "execution_count": null,
   "metadata": {},
   "outputs": [],
   "source": [
    "s3_handler = S3Handler()\n",
    "s3_handler.rename_s3_objects_from_dict(rename_pairs, suffixes=MOVIE_EXTENSIONS, try_run=False)"
   ]
  },
  {
   "cell_type": "code",
   "execution_count": null,
   "metadata": {},
   "outputs": [],
   "source": [
    "\n",
    "# End"
   ]
  }
 ],
 "metadata": {
  "kernelspec": {
   "display_name": ".conda",
   "language": "python",
   "name": "python3"
  },
  "language_info": {
   "codemirror_mode": {
    "name": "ipython",
    "version": 3
   },
   "file_extension": ".py",
   "mimetype": "text/x-python",
   "name": "python",
   "nbconvert_exporter": "python",
   "pygments_lexer": "ipython3",
   "version": "3.11.11"
  }
 },
 "nbformat": 4,
 "nbformat_minor": 2
}
