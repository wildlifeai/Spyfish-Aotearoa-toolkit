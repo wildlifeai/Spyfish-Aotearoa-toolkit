{
 "cells": [
  {
   "cell_type": "markdown",
   "metadata": {},
   "source": [
    "# Rename files in S3 given an CSV file with old and new file names\n",
    "\n",
    "This notebook is part of the Spyfish Aotearoa data cleaning effort.\n"
   ]
  },
  {
   "cell_type": "code",
   "execution_count": 10,
   "metadata": {},
   "outputs": [],
   "source": [
    "# Last change: 2025.05.05"
   ]
  },
  {
   "cell_type": "code",
   "execution_count": 11,
   "metadata": {},
   "outputs": [],
   "source": [
    "import pandas as pd\n",
    "import os\n",
    "\n",
    "from sftk.common import DATA_FOLDER_PATH, MOVIE_EXTENSIONS\n",
    "from sftk.s3_handler import S3Handler"
   ]
  },
  {
   "cell_type": "markdown",
   "metadata": {},
   "source": [
    "# Change variables here to match your use case: "
   ]
  },
  {
   "cell_type": "code",
   "execution_count": 12,
   "metadata": {},
   "outputs": [],
   "source": [
    "rename_csv_name = 'rename.csv'\n",
    "# Define the names of the columns containing the old names and the new names\n",
    "new_name_column = \"NEW\"\n",
    "old_name_column = \"OLD\""
   ]
  },
  {
   "cell_type": "markdown",
   "metadata": {},
   "source": [
    "# Run the following cells:\n",
    "Extract paths from rename csv. \n",
    "\n",
    "Currently it works with local files, if needed can be easily done to work with files from S3. (TODO - add S3handler csv file download.)"
   ]
  },
  {
   "cell_type": "code",
   "execution_count": null,
   "metadata": {},
   "outputs": [],
   "source": [
    "# Combine path\n",
    "file_path = os.path.join(DATA_FOLDER_PATH, rename_csv_name)\n",
    "# Read the CSV file containing  into a DataFrame\n",
    "rename_csv_df = pd.read_csv(file_path)\n",
    "\n",
    "# Extract the dict with keys with old name and values with the new name\n",
    "rename_pairs = dict(zip(rename_csv_df[old_name_column], rename_csv_df[new_name_column]))\n",
    "\n",
    "# review the dictionary\n",
    "print(rename_pairs)"
   ]
  },
  {
   "cell_type": "markdown",
   "metadata": {},
   "source": [
    "Rename files in the bucket.\n",
    "\n",
    "Try_run does not rename, but runs the code to see what will be affected, change to False when ready."
   ]
  },
  {
   "cell_type": "code",
   "execution_count": 14,
   "metadata": {},
   "outputs": [],
   "source": [
    "s3_handler = S3Handler()\n",
    "s3_handler.rename_s3_objects_from_dict(rename_pairs, suffixes=MOVIE_EXTENSIONS, try_run=False)"
   ]
  },
  {
   "cell_type": "code",
   "execution_count": null,
   "metadata": {},
   "outputs": [],
   "source": [
    "# TODO If useful this could be made into a python script. "
   ]
  },
  {
   "cell_type": "code",
   "execution_count": null,
   "metadata": {},
   "outputs": [],
   "source": [
    "\n",
    "# End"
   ]
  }
 ],
 "metadata": {
  "kernelspec": {
   "display_name": "spyfish",
   "language": "python",
   "name": "python3"
  },
  "language_info": {
   "codemirror_mode": {
    "name": "ipython",
    "version": 3
   },
   "file_extension": ".py",
   "mimetype": "text/x-python",
   "name": "python",
   "nbconvert_exporter": "python",
   "pygments_lexer": "ipython3",
   "version": "3.12.9"
  }
 },
 "nbformat": 4,
 "nbformat_minor": 2
}
