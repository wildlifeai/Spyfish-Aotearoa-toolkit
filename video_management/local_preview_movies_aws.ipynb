{
  "cells": [
    {
      "cell_type": "markdown",
      "metadata": {
        "id": "Kvs6P42y4QT0"
      },
      "source": [
        "# Movie Preview from S3\n",
        "This notebook uses the `sftk` to find and preview video files stored in an S3 bucket.\""
      ]
    },
    {
      "cell_type": "code",
      "execution_count": null,
      "metadata": {
        "id": "r2E5PR5iaGfC"
      },
      "outputs": [],
      "source": [
        "from sftk.s3_handler import S3Handler\n",
        "from sftk.video_handler import VideoProcessor"
      ]
    },
    {
      "cell_type": "code",
      "execution_count": null,
      "metadata": {
        "id": "9zG485hliKXR"
      },
      "outputs": [],
      "source": [
        "# 1. Initialize handlers\n",
        "s3_handler = S3Handler()\n",
        "processor = VideoProcessor(s3_handler)\n"
      ]
    },
    {
      "cell_type": "code",
      "execution_count": null,
      "metadata": {
        "id": "ncqxtMgbEQdi"
      },
      "outputs": [],
      "source": [
        "# 2. Preview a specific movie\n",
        "movie_key_to_preview = \"media/HOR_20240408_BUV/HOR_20240408_BUV_HOR_096_01/HOR_20240408_BUV_HOR_096_01.mp4\"  # e.g., \"media/SURVEY_ID/DROP_ID/DROP_ID.mp4\"\n",
        "display(processor.preview_movie(movie_key_to_preview))"
      ]
    },
    {
      "cell_type": "code",
      "execution_count": null,
      "metadata": {
        "id": "6MpSID5e9UTE"
      },
      "outputs": [],
      "source": [
        "# Get a list of names with the available files inside a \"Folder\" (S3 Key prefix)\n",
        "S3_PREFIX = \"media/HOR_20240408_BUV/HOR_20240408_BUV_HOR_096_01/\"  # e.g., \"media/SURVEY_ID/DROP_ID/\"\n",
        "\n",
        "import pandas as pd\n",
        "\n",
        "# Set pandas display options to show full content\n",
        "# To display the full content of each cell without truncation\n",
        "pd.set_option('display.max_colwidth', None)\n",
        "\n",
        "# To display all rows (if your DataFrame has many rows)\n",
        "pd.set_option('display.max_rows', None)\n",
        "\n",
        "# To display all columns (if your DataFrame has many columns)\n",
        "pd.set_option('display.max_columns', None)\n",
        "\n",
        "# 2. List all movies available in the specified prefix\n",
        "movies_df = processor.get_movies_df(prefix=S3_PREFIX)\n",
        "display(movies_df)"
      ]
    },
    {
      "cell_type": "markdown",
      "metadata": {
        "id": "xy0fQv__r-xA"
      },
      "source": [
        "End"
      ]
    }
  ],
  "metadata": {
    "colab": {
      "provenance": []
    },
    "kernelspec": {
      "display_name": ".conda",
      "language": "python",
      "name": "python3"
    },
    "language_info": {
      "codemirror_mode": {
        "name": "ipython",
        "version": 3
      },
      "file_extension": ".py",
      "mimetype": "text/x-python",
      "name": "python",
      "nbconvert_exporter": "python",
      "pygments_lexer": "ipython3",
      "version": "3.11.11"
    }
  },
  "nbformat": 4,
  "nbformat_minor": 0
}
