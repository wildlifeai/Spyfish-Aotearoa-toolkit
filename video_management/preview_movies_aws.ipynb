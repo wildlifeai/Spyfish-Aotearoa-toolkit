{
  "cells": [
    {
      "cell_type": "markdown",
      "metadata": {
        "id": "Kvs6P42y4QT0"
      },
      "source": [
        "This notebook contains the scripts to rename the filenames of videos stored in AWS bucket."
      ]
    },
    {
      "cell_type": "code",
      "execution_count": null,
      "metadata": {
        "id": "6Yypj6uRWFj2"
      },
      "outputs": [],
      "source": [
        "# TODO refactor, merge and extract utils etc, and tests"
      ]
    },
    {
      "cell_type": "code",
      "execution_count": null,
      "metadata": {
        "id": "r2E5PR5iaGfC"
      },
      "outputs": [],
      "source": [
        "# @title <font size=\"5\">↓ ឵឵<i>Install and load requirements</font> { vertical-output: true }\n",
        "\n",
        "!pip install boto3\n",
        "import getpass\n",
        "import boto3\n",
        "import pandas as pd\n",
        "from IPython.display import display, HTML\n"
      ]
    },
    {
      "cell_type": "code",
      "execution_count": null,
      "metadata": {
        "id": "pJUFTrOeeeUN"
      },
      "outputs": [],
      "source": [
        "def aws_credentials():\n",
        "    # Save your access key for the s3 bucket.\n",
        "    aws_access_key_id = getpass.getpass(\"Enter the key id for the aws server\")\n",
        "    aws_secret_access_key = getpass.getpass(\n",
        "        \"Enter the secret access key for the aws server\"\n",
        "    )\n",
        "\n",
        "    return aws_access_key_id, aws_secret_access_key\n",
        "\n",
        "\n",
        "def connect_s3(aws_access_key_id: str, aws_secret_access_key: str):\n",
        "    # Connect to the s3 bucket\n",
        "    client = boto3.client(\n",
        "        \"s3\",\n",
        "        aws_access_key_id=aws_access_key_id,\n",
        "        aws_secret_access_key=aws_secret_access_key,\n",
        "    )\n",
        "    return client\n",
        "\n",
        "\n",
        "def get_aws_client():\n",
        "    # Set aws account credentials\n",
        "    aws_access_key_id, aws_secret_access_key = aws_credentials()\n",
        "\n",
        "    # Connect to S3\n",
        "    client = connect_s3(aws_access_key_id, aws_secret_access_key)\n",
        "\n",
        "    return client\n",
        "\n",
        "def get_matching_s3_objects(\n",
        "    client: boto3.client, bucket: str, prefix: str = \"\", suffix: str = \"\"\n",
        "):\n",
        "    \"\"\"\n",
        "    ## Code modified from alexwlchan (https://alexwlchan.net/2019/07/listing-s3-keys/)\n",
        "    Generate objects in an S3 bucket.\n",
        "\n",
        "    :param client: S3 client.\n",
        "    :param bucket: Name of the S3 bucket.\n",
        "    :param prefix: Only fetch objects whose key starts with\n",
        "        this prefix (optional).\n",
        "    :param suffix: Only fetch objects whose keys end with\n",
        "        this suffix (optional).\n",
        "    \"\"\"\n",
        "\n",
        "    paginator = client.get_paginator(\"list_objects_v2\")\n",
        "\n",
        "    kwargs = {\"Bucket\": bucket}\n",
        "\n",
        "    # We can pass the prefix directly to the S3 API.  If the user has passed\n",
        "    # a tuple or list of prefixes, we go through them one by one.\n",
        "    if isinstance(prefix, str):\n",
        "        prefixes = (prefix,)\n",
        "    else:\n",
        "        prefixes = prefix\n",
        "\n",
        "    for key_prefix in prefixes:\n",
        "        kwargs[\"Prefix\"] = key_prefix\n",
        "\n",
        "        for page in paginator.paginate(**kwargs):\n",
        "            try:\n",
        "                contents = page[\"Contents\"]\n",
        "            except KeyError:\n",
        "                break\n",
        "\n",
        "            for obj in contents:\n",
        "                key = obj[\"Key\"]\n",
        "                if key.endswith(suffix):\n",
        "                    yield obj\n",
        "\n",
        "\n",
        "def get_matching_s3_keys(\n",
        "    client: boto3.client, bucket: str, prefix: str = \"\", suffix: str = \"\"\n",
        "):\n",
        "    \"\"\"\n",
        "    ## Code from alexwlchan (https://alexwlchan.net/2019/07/listing-s3-keys/)\n",
        "    Generate the keys in an S3 bucket.\n",
        "\n",
        "    :param client: S3 client.\n",
        "    :param bucket: Name of the S3 bucket.\n",
        "    :param prefix: Only fetch keys that start with this prefix (optional).\n",
        "    :param suffix: Only fetch keys that end with this suffix (optional).\n",
        "    return a list of the matching objects\n",
        "    \"\"\"\n",
        "\n",
        "    # Select the relevant bucket\n",
        "    s3_keys = [\n",
        "        obj[\"Key\"] for obj in get_matching_s3_objects(client, bucket, prefix, suffix)\n",
        "    ]\n",
        "\n",
        "    return s3_keys\n",
        "\n",
        "\n",
        "def get_movie_extensions():\n",
        "    # Specify the formats of the movies to select\n",
        "    return tuple([\"wmv\", \"mpg\", \"mov\", \"avi\", \"mp4\", \"MOV\", \"MP4\"])\n",
        "\n",
        "def get_movies_df(client: boto3.client, bucket: str, prefix: str = \"\") -> pd.DataFrame:\n",
        "    \"\"\"\n",
        "    Get a DataFrame containing the keys of all movie files in the specified S3 bucket.\n",
        "\n",
        "    :param client: S3 client.\n",
        "    :param bucket: Name of the S3 bucket.\n",
        "    :param prefix: Only fetch keys that start with this prefix (optional).\n",
        "    :return: DataFrame with a single column, 'Key', containing paths to movie files.\n",
        "    \"\"\"\n",
        "    # Get the movie file extensions\n",
        "    movie_extensions = get_movie_extensions()\n",
        "\n",
        "    # Retrieve keys that match movie file extensions\n",
        "    movie_keys = get_matching_s3_keys(client, bucket, prefix, suffix=movie_extensions)\n",
        "\n",
        "    # Convert the list of movie keys to a DataFrame\n",
        "    movies_df = pd.DataFrame(movie_keys, columns=[\"Key\"])\n",
        "\n",
        "    return movies_df\n",
        "\n",
        "# Function to preview underwater movies\n",
        "def preview_movie(\n",
        "    client,\n",
        "    Key,\n",
        "):\n",
        "    \"\"\"\n",
        "    It takes a movie filename and its associated metadata and returns a HTML object that can be displayed in the notebook\n",
        "\n",
        "    :param movie_path: the filename of the movie you want to preview\n",
        "    :param movie_metadata: the metadata of the movie you want to preview\n",
        "    :return: HTML object\n",
        "    \"\"\"\n",
        "\n",
        "    movie_path = client.generate_presigned_url(\n",
        "        \"get_object\",\n",
        "        Params={\"Bucket\": \"marine-buv\", \"Key\": Key},\n",
        "        ExpiresIn=26400,\n",
        "    )\n",
        "\n",
        "    # Adjust the width of the video and metadata sections based on your preference\n",
        "    video_width = \"60%\"  # Adjust as needed\n",
        "    metadata_width = \"40%\"  # Adjust as needed\n",
        "\n",
        "    html_code = f\"\"\"<html>\n",
        "            <div style=\"display: flex; align-items: center; width: 100%;\">\n",
        "                <div style=\"width: {video_width}; padding-right: 10px;\">\n",
        "                    <video width=\"100%\" controls>\n",
        "                        <source src={movie_path}>\n",
        "                    </video>\n",
        "                </div>\n",
        "            </div>\n",
        "            </html>\"\"\"\n",
        "\n",
        "    return HTML(html_code)"
      ]
    },
    {
      "cell_type": "code",
      "execution_count": null,
      "metadata": {
        "id": "9zG485hliKXR"
      },
      "outputs": [],
      "source": [
        "# Connect to s3 bucket\n",
        "client = get_aws_client()"
      ]
    },
    {
      "cell_type": "code",
      "execution_count": null,
      "metadata": {
        "id": "6MpSID5e9UTE"
      },
      "outputs": [],
      "source": [
        "# List all movies available\n",
        "movies_df = get_movies_df(client, \"marine-buv\", \"\")"
      ]
    },
    {
      "cell_type": "code",
      "execution_count": null,
      "metadata": {
        "id": "ncqxtMgbEQdi"
      },
      "outputs": [],
      "source": [
        "preview_movie(client, \"TON_20241125_BUV/TON_056/TON_056.mp4\")"
      ]
    },
    {
      "cell_type": "markdown",
      "metadata": {
        "id": "xy0fQv__r-xA"
      },
      "source": [
        "End"
      ]
    }
  ],
  "metadata": {
    "colab": {
      "provenance": []
    },
    "kernelspec": {
      "display_name": ".conda",
      "language": "python",
      "name": "python3"
    },
    "language_info": {
      "codemirror_mode": {
        "name": "ipython",
        "version": 3
      },
      "file_extension": ".py",
      "mimetype": "text/x-python",
      "name": "python",
      "nbconvert_exporter": "python",
      "pygments_lexer": "ipython3",
      "version": "3.11.10"
    }
  },
  "nbformat": 4,
  "nbformat_minor": 0
}
