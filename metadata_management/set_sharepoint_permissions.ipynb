{
 "cells": [
  {
   "cell_type": "markdown",
   "metadata": {},
   "source": [
    "# Set sharepoint permissions for a specific team/site\n",
    "\n",
    "This notebook is part of this Notion instruction page [on setting up API to communicate with Sharepoint](https://www.notion.so/Set-app-Azure-App-to-communicate-with-sharepoint-1d38b68cc7b4803d8a61ee7c6e440d2e)\n",
    "\n",
    "Change the variables in the first cell to match your use case."
   ]
  },
  {
   "cell_type": "code",
   "execution_count": 7,
   "metadata": {},
   "outputs": [],
   "source": [
    "import requests"
   ]
  },
  {
   "cell_type": "code",
   "execution_count": null,
   "metadata": {},
   "outputs": [],
   "source": [
    "TENANT_ID = \"your-tenant-id\"\n",
    "CLIENT_ID = \"your-app-client-id\"\n",
    "CLIENT_SECRET = \"your-app-client-secret\"\n",
    "SHAREPOINT_GRAPH_URL = \"sharepoint-graph-url\"\n",
    "# \"https://graph.microsoft.com/v1.0/sites/<domain>/teams/<teamname>\""
   ]
  },
  {
   "cell_type": "code",
   "execution_count": 8,
   "metadata": {},
   "outputs": [],
   "source": [
    "GRAPH_SCOPE = \"https://graph.microsoft.com/.default\"\n",
    "\n",
    "def get_graph_token():\n",
    "    url = f\"https://login.microsoftonline.com/{TENANT_ID}/oauth2/v2.0/token\"\n",
    "    data = {\n",
    "        \"grant_type\": \"client_credentials\",\n",
    "        \"client_id\": CLIENT_ID,\n",
    "        \"client_secret\": CLIENT_SECRET,\n",
    "        \"scope\": GRAPH_SCOPE\n",
    "    }\n",
    "    response = requests.post(url, data=data)\n",
    "    response.raise_for_status()\n",
    "    return response.json()[\"access_token\"]\n"
   ]
  },
  {
   "cell_type": "code",
   "execution_count": 9,
   "metadata": {},
   "outputs": [],
   "source": [
    "def get_site_id(token):\n",
    "    headers = {\"Authorization\": f\"Bearer {token}\"}\n",
    "    response = requests.get(SHAREPOINT_GRAPH_URL, headers=headers)\n",
    "    response.raise_for_status()\n",
    "    return response.json()[\"id\"]"
   ]
  },
  {
   "cell_type": "code",
   "execution_count": 10,
   "metadata": {},
   "outputs": [],
   "source": [
    "def grant_site_permission(site_id, app_client_id, token, role=\"read\"):\n",
    "    headers = {\n",
    "        \"Authorization\": f\"Bearer {token}\",\n",
    "        \"Content-Type\": \"application/json\"\n",
    "    }\n",
    "    url = f\"https://graph.microsoft.com/v1.0/sites/{site_id}/permissions\"\n",
    "    body = {\n",
    "        \"roles\": [role],\n",
    "        \"grantedToIdentities\": [\n",
    "            {\n",
    "                \"application\": {\n",
    "                    \"id\": app_client_id,\n",
    "                }\n",
    "            }\n",
    "        ]\n",
    "    }\n",
    "    response = requests.post(url, headers=headers, json=body)\n",
    "    response.raise_for_status()\n",
    "    print(\"Access granted successfully.\")\n"
   ]
  },
  {
   "cell_type": "code",
   "execution_count": null,
   "metadata": {},
   "outputs": [],
   "source": [
    "if __name__ == \"__main__\":\n",
    "    token = get_graph_token()\n",
    "    print(token)\n",
    "    site_id = get_site_id(token)\n",
    "    print(\"Site ID:\", site_id)\n",
    "    # Grant access to that site\n",
    "    grant_site_permission(site_id, CLIENT_ID, token, role=\"read\")"
   ]
  },
  {
   "cell_type": "code",
   "execution_count": null,
   "metadata": {},
   "outputs": [],
   "source": []
  }
 ],
 "metadata": {
  "kernelspec": {
   "display_name": "spyfish",
   "language": "python",
   "name": "python3"
  },
  "language_info": {
   "codemirror_mode": {
    "name": "ipython",
    "version": 3
   },
   "file_extension": ".py",
   "mimetype": "text/x-python",
   "name": "python",
   "nbconvert_exporter": "python",
   "pygments_lexer": "ipython3",
   "version": "3.12.9"
  }
 },
 "nbformat": 4,
 "nbformat_minor": 2
}
